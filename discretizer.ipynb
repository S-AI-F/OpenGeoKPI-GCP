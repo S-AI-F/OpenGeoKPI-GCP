{
 "cells": [
  {
   "cell_type": "markdown",
   "metadata": {},
   "source": [
    "# Get raw data data from google cloud storage"
   ]
  },
  {
   "cell_type": "code",
   "execution_count": 11,
   "metadata": {},
   "outputs": [],
   "source": [
    "from google.cloud import storage\n",
    "import json"
   ]
  },
  {
   "cell_type": "code",
   "execution_count": 12,
   "metadata": {},
   "outputs": [],
   "source": [
    "# Instantiate a Google Cloud Storage client and specify required bucket and file\n",
    "storage_client = storage.Client()\n",
    "bucket = storage_client.get_bucket('opengeokpi-bucket')\n",
    "\n",
    "# get blobs\n",
    "blob_departements = bucket.blob('refine/territory/departements.json')\n",
    "\n",
    "# Download the contents of the blob as a string and then parse it using json.loads() method\n",
    "data_departements = json.loads(blob_departements.download_as_string(client=None))"
   ]
  },
  {
   "cell_type": "markdown",
   "metadata": {},
   "source": [
    "# discretizer function"
   ]
  },
  {
   "cell_type": "code",
   "execution_count": 13,
   "metadata": {},
   "outputs": [],
   "source": [
    "import geopandas as gpd\n",
    "from shapely import wkt\n",
    "from shapely.geometry import Polygon\n",
    "import numpy as np\n",
    "import shapely.speedups\n",
    "shapely.speedups.enable()\n",
    "import descartes\n",
    "import matplotlib.pyplot as plt\n",
    "from geopandas.tools import sjoin"
   ]
  },
  {
   "cell_type": "code",
   "execution_count": 14,
   "metadata": {},
   "outputs": [
    {
     "name": "stderr",
     "output_type": "stream",
     "text": [
      "/opt/conda/lib/python3.7/site-packages/ipykernel_launcher.py:44: UserWarning: Geometry is in a geographic CRS. Results from 'centroid' are likely incorrect. Use 'GeoSeries.to_crs()' to re-project geometries to a projected CRS before this operation.\n",
      "\n"
     ]
    }
   ],
   "source": [
    "def discretize(geojson_to_discretize, code, length, wide):\n",
    "    \n",
    "    ######################### prepare data to discretize\n",
    "    \n",
    "    # convert geojson to geopandadataframe\n",
    "    gdf_data = gpd.GeoDataFrame.from_features(geojson_to_discretize[\"features\"])\n",
    "    \n",
    "    # set crs\n",
    "    gdf_data = gdf_data.set_crs(epsg=4326)\n",
    "    \n",
    "    # select code of territory to subset\n",
    "    gdf_data_subset =  gdf_data[gdf_data.departements_code == '75']\n",
    "    \n",
    "    ######################## generate grids polygons\n",
    "    \n",
    "    # get bbox coordinates\n",
    "    xmin,ymin,xmax,ymax = gdf_data_subset.total_bounds\n",
    "    \n",
    "    # define ranges\n",
    "    np.arange(xmin,xmax,wide)\n",
    "    cols = list(np.arange(xmin,xmax,wide))\n",
    "    rows = list(np.arange(ymin,ymax,length))\n",
    "    rows.reverse()\n",
    "    \n",
    "    # generate grid polygons\n",
    "    polygons = []\n",
    "    for x in cols:\n",
    "        for y in rows:\n",
    "            polygons.append( Polygon([(x,y), (x+wide, y), (x+wide, y-length), (x, y-length)]) )\n",
    "    grid = gpd.GeoDataFrame({'geometry':polygons})\n",
    "    \n",
    "    # set crs\n",
    "    grid = grid.set_crs(epsg=4326)\n",
    "    \n",
    "    # Add Id column\n",
    "    grid['ID'] = grid.index + 1\n",
    "    \n",
    "    ###################### Generate grid centroids\n",
    "    \n",
    "    # copy grid data\n",
    "    grid_centroid = grid.copy()\n",
    "    \n",
    "    #Find the center point\n",
    "    grid_centroid['Center_point'] = grid_centroid['geometry'].centroid\n",
    "    \n",
    "    #Extract lat and lon from the centerpoint\n",
    "    grid_centroid[\"lat\"] = grid_centroid.Center_point.map(lambda p: p.x)\n",
    "    grid_centroid[\"long\"] = grid_centroid.Center_point.map(lambda p: p.y)\n",
    "    \n",
    "    # convert cells geometry column to string\n",
    "    grid_centroid['str_geom_grid'] = grid_centroid.geometry.apply(lambda x: wkt.dumps(x))\n",
    "    # convert centroid geometry column to string\n",
    "    grid_centroid['str_geom_centroid'] = grid_centroid.Center_point.apply(lambda x: wkt.dumps(x))\n",
    "    \n",
    "    # subset columns\n",
    "    grid_centroid_df = grid_centroid[['ID', 'str_geom_grid', 'str_geom_centroid']]\n",
    "    \n",
    "    ########################### Select points in polygons\n",
    "    \n",
    "    centroid = grid_centroid[['Center_point','ID']]\n",
    "    centroid = gpd.GeoDataFrame(centroid, geometry='Center_point')\n",
    "    \n",
    "    # get centroids points within paris departements\n",
    "    pointInPolys = sjoin(centroid, gdf_data_subset, op = 'within')\n",
    "    \n",
    "    # convert centroid geometry column to string\n",
    "    pointInPolys['str_geom_centroid'] = pointInPolys.Center_point.apply(lambda x: wkt.dumps(x))\n",
    "    \n",
    "    # subset columns\n",
    "    centroids_df_within = pointInPolys[['ID', 'departements_code', 'departements_name','str_geom_centroid']]\n",
    "    \n",
    "    # get cells within territory\n",
    "    ID_within = centroids_df_within.ID\n",
    "    mask = grid_centroid_df['ID'].isin(ID_within)\n",
    "    grid_df_within = grid_centroid_df[mask]\n",
    "    \n",
    "    ########################## return results\n",
    "    return(centroids_df_within, grid_df_within)\n",
    "\n",
    "centroids, grid = discretize(geojson_to_discretize = data_departements,\n",
    "                             code = '75',\n",
    "                             length = 0.001,\n",
    "                             wide = 0.00125 )"
   ]
  },
  {
   "cell_type": "code",
   "execution_count": 15,
   "metadata": {},
   "outputs": [
    {
     "data": {
      "text/html": [
       "<div>\n",
       "<style scoped>\n",
       "    .dataframe tbody tr th:only-of-type {\n",
       "        vertical-align: middle;\n",
       "    }\n",
       "\n",
       "    .dataframe tbody tr th {\n",
       "        vertical-align: top;\n",
       "    }\n",
       "\n",
       "    .dataframe thead th {\n",
       "        text-align: right;\n",
       "    }\n",
       "</style>\n",
       "<table border=\"1\" class=\"dataframe\">\n",
       "  <thead>\n",
       "    <tr style=\"text-align: right;\">\n",
       "      <th></th>\n",
       "      <th>ID</th>\n",
       "      <th>departements_code</th>\n",
       "      <th>departements_name</th>\n",
       "      <th>str_geom_centroid</th>\n",
       "    </tr>\n",
       "  </thead>\n",
       "  <tbody>\n",
       "    <tr>\n",
       "      <th>46</th>\n",
       "      <td>47</td>\n",
       "      <td>75</td>\n",
       "      <td>Paris</td>\n",
       "      <td>POINT (2.2247940000000006 48.8553649999999067)</td>\n",
       "    </tr>\n",
       "    <tr>\n",
       "      <th>47</th>\n",
       "      <td>48</td>\n",
       "      <td>75</td>\n",
       "      <td>Paris</td>\n",
       "      <td>POINT (2.2247940000000006 48.8543649999999090)</td>\n",
       "    </tr>\n",
       "    <tr>\n",
       "      <th>48</th>\n",
       "      <td>49</td>\n",
       "      <td>75</td>\n",
       "      <td>Paris</td>\n",
       "      <td>POINT (2.2247940000000006 48.8533649999999113)</td>\n",
       "    </tr>\n",
       "    <tr>\n",
       "      <th>129</th>\n",
       "      <td>130</td>\n",
       "      <td>75</td>\n",
       "      <td>Paris</td>\n",
       "      <td>POINT (2.2260439999999999 48.8593649999998902)</td>\n",
       "    </tr>\n",
       "    <tr>\n",
       "      <th>130</th>\n",
       "      <td>131</td>\n",
       "      <td>75</td>\n",
       "      <td>Paris</td>\n",
       "      <td>POINT (2.2260439999999999 48.8583649999999068)</td>\n",
       "    </tr>\n",
       "  </tbody>\n",
       "</table>\n",
       "</div>"
      ],
      "text/plain": [
       "      ID departements_code departements_name  \\\n",
       "46    47                75             Paris   \n",
       "47    48                75             Paris   \n",
       "48    49                75             Paris   \n",
       "129  130                75             Paris   \n",
       "130  131                75             Paris   \n",
       "\n",
       "                                  str_geom_centroid  \n",
       "46   POINT (2.2247940000000006 48.8553649999999067)  \n",
       "47   POINT (2.2247940000000006 48.8543649999999090)  \n",
       "48   POINT (2.2247940000000006 48.8533649999999113)  \n",
       "129  POINT (2.2260439999999999 48.8593649999998902)  \n",
       "130  POINT (2.2260439999999999 48.8583649999999068)  "
      ]
     },
     "execution_count": 15,
     "metadata": {},
     "output_type": "execute_result"
    }
   ],
   "source": [
    "centroids.head()"
   ]
  },
  {
   "cell_type": "markdown",
   "metadata": {},
   "source": [
    "# load results in bigquery"
   ]
  },
  {
   "cell_type": "code",
   "execution_count": 17,
   "metadata": {},
   "outputs": [],
   "source": [
    "from google.cloud import bigquery"
   ]
  },
  {
   "cell_type": "code",
   "execution_count": 18,
   "metadata": {},
   "outputs": [
    {
     "name": "stdout",
     "output_type": "stream",
     "text": [
      "Client creating using default project: test-rstudio-gcp\n"
     ]
    }
   ],
   "source": [
    "# connect to existing dataset\n",
    "\n",
    "client = bigquery.Client(location=\"US\")\n",
    "print(\"Client creating using default project: {}\".format(client.project))\n",
    "\n",
    "# Define a name for the dataset.\n",
    "dataset_id = 'opengeokpi'\n",
    "\n",
    "# The project defaults to the Client's project if not specified.\n",
    "dataset = client.get_dataset(dataset_id)  # API request# create new dataset"
   ]
  },
  {
   "cell_type": "markdown",
   "metadata": {},
   "source": [
    "## load centroids in bigquery"
   ]
  },
  {
   "cell_type": "code",
   "execution_count": 20,
   "metadata": {},
   "outputs": [
    {
     "name": "stdout",
     "output_type": "stream",
     "text": [
      "Loaded dataframe to /projects/test-rstudio-gcp/datasets/opengeokpi/tables/centroids_df\n",
      "Query results loaded to table /projects/test-rstudio-gcp/datasets/opengeokpi/tables/centroids_geo\n"
     ]
    }
   ],
   "source": [
    "# load centroids_df\n",
    "table_ref = dataset.table(\"centroids_df\")\n",
    "job = client.load_table_from_dataframe(centroids, table_ref, location=\"US\")\n",
    "\n",
    "job.result()  # Waits for table load to complete.\n",
    "print(\"Loaded dataframe to {}\".format(table_ref.path))\n",
    "\n",
    "# create centroids_geo in bigquery\n",
    "sql = \"\"\"\n",
    "    SELECT\n",
    "  ST_GEOGFROMTEXT(str_geom_centroid) AS geom_centroids,\n",
    "  ID,\n",
    "  departements_code,\n",
    "  departements_name\n",
    "FROM\n",
    "  `test-rstudio-gcp.opengeokpi.centroids_df` ;\n",
    "\"\"\"\n",
    "table_ref = dataset.table(\"centroids_geo\")\n",
    "job_config = bigquery.QueryJobConfig(\n",
    "    destination=table_ref\n",
    ")\n",
    "\n",
    "\n",
    "# Start the query, passing in the extra configuration.\n",
    "query_job = client.query(sql, location=\"US\", job_config=job_config)\n",
    "\n",
    "query_job.result()  # Waits for the query to finish\n",
    "print(\"Query results loaded to table {}\".format(table_ref.path))"
   ]
  },
  {
   "cell_type": "markdown",
   "metadata": {},
   "source": [
    "## load grid in bigquery"
   ]
  },
  {
   "cell_type": "code",
   "execution_count": 22,
   "metadata": {},
   "outputs": [
    {
     "name": "stdout",
     "output_type": "stream",
     "text": [
      "Loaded dataframe to /projects/test-rstudio-gcp/datasets/opengeokpi/tables/grid_df\n",
      "Query results loaded to table /projects/test-rstudio-gcp/datasets/opengeokpi/tables/grid_geo\n"
     ]
    }
   ],
   "source": [
    "# load centroids_df\n",
    "table_ref = dataset.table(\"grid_df\")\n",
    "job = client.load_table_from_dataframe(grid, table_ref, location=\"US\")\n",
    "\n",
    "job.result()  # Waits for table load to complete.\n",
    "print(\"Loaded dataframe to {}\".format(table_ref.path))\n",
    "\n",
    "# create centroids_geo in bigquery\n",
    "sql = \"\"\"\n",
    "    SELECT\n",
    "  ST_GEOGFROMTEXT(str_geom_grid) AS geom_grid,\n",
    "  ID\n",
    "FROM\n",
    "  `test-rstudio-gcp.opengeokpi.grid_df` ;\n",
    "\"\"\"\n",
    "table_ref = dataset.table(\"grid_geo\")\n",
    "job_config = bigquery.QueryJobConfig(\n",
    "    destination=table_ref\n",
    ")\n",
    "\n",
    "\n",
    "# Start the query, passing in the extra configuration.\n",
    "query_job = client.query(sql, location=\"US\", job_config=job_config)\n",
    "\n",
    "query_job.result()  # Waits for the query to finish\n",
    "print(\"Query results loaded to table {}\".format(table_ref.path))"
   ]
  },
  {
   "cell_type": "code",
   "execution_count": null,
   "metadata": {},
   "outputs": [],
   "source": []
  }
 ],
 "metadata": {
  "environment": {
   "name": "common-cpu.m54",
   "type": "gcloud",
   "uri": "gcr.io/deeplearning-platform-release/base-cpu:m54"
  },
  "kernelspec": {
   "display_name": "Python 3",
   "language": "python",
   "name": "python3"
  },
  "language_info": {
   "codemirror_mode": {
    "name": "ipython",
    "version": 3
   },
   "file_extension": ".py",
   "mimetype": "text/x-python",
   "name": "python",
   "nbconvert_exporter": "python",
   "pygments_lexer": "ipython3",
   "version": "3.7.8"
  }
 },
 "nbformat": 4,
 "nbformat_minor": 4
}
