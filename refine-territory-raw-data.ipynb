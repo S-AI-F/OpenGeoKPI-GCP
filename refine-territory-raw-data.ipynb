{
 "cells": [
  {
   "cell_type": "markdown",
   "metadata": {},
   "source": [
    "# Get Territory raw data data from google cloud storage"
   ]
  },
  {
   "cell_type": "code",
   "execution_count": 1,
   "metadata": {},
   "outputs": [],
   "source": [
    "from google.cloud import storage\n",
    "import json"
   ]
  },
  {
   "cell_type": "code",
   "execution_count": 2,
   "metadata": {},
   "outputs": [],
   "source": [
    "# Instantiate a Google Cloud Storage client and specify required bucket and file\n",
    "storage_client = storage.Client()\n",
    "bucket = storage_client.get_bucket('opengeokpi-bucket')"
   ]
  },
  {
   "cell_type": "code",
   "execution_count": 37,
   "metadata": {},
   "outputs": [],
   "source": [
    "# get blobs\n",
    "blob_zones = bucket.blob('raw/territory/geozones-france-2019.json')"
   ]
  },
  {
   "cell_type": "code",
   "execution_count": 38,
   "metadata": {},
   "outputs": [],
   "source": [
    "# Download the contents of the blob as a string and then parse it using json.loads() method\n",
    "data_zones = json.loads(blob_zones.download_as_string(client=None))"
   ]
  },
  {
   "cell_type": "markdown",
   "metadata": {},
   "source": [
    "# Prepare data\n",
    "## Regions"
   ]
  },
  {
   "cell_type": "code",
   "execution_count": 39,
   "metadata": {},
   "outputs": [],
   "source": [
    "import geopandas as gpd\n",
    "from shapely import wkt"
   ]
  },
  {
   "cell_type": "code",
   "execution_count": 53,
   "metadata": {},
   "outputs": [],
   "source": [
    "# convert geojson to geopandadataframe\n",
    "gdf_zones = gpd.GeoDataFrame.from_features(data_zones[\"features\"])"
   ]
  },
  {
   "cell_type": "code",
   "execution_count": 54,
   "metadata": {},
   "outputs": [],
   "source": [
    "# set crs\n",
    "gdf_zones = gdf_zones.set_crs(epsg=4326)"
   ]
  },
  {
   "cell_type": "code",
   "execution_count": 56,
   "metadata": {},
   "outputs": [],
   "source": [
    "# select regions\n",
    "gdf_zones_regions =  gdf_zones[gdf_zones.level == 'fr:region']"
   ]
  },
  {
   "cell_type": "code",
   "execution_count": 64,
   "metadata": {},
   "outputs": [
    {
     "data": {
      "text/plain": [
       "array(['country', 'country-group', 'country-subset', 'fr:arrondissement',\n",
       "       'fr:collectivite', 'fr:commune', 'fr:departement', 'fr:epci',\n",
       "       'fr:region'], dtype=object)"
      ]
     },
     "execution_count": 64,
     "metadata": {},
     "output_type": "execute_result"
    }
   ],
   "source": [
    "gdf_zones.level.unique()"
   ]
  },
  {
   "cell_type": "code",
   "execution_count": 57,
   "metadata": {},
   "outputs": [],
   "source": [
    "# subset columns\n",
    "gdf_zones_regions = gdf_zones_regions[['geometry','level','code','name','population','area']]"
   ]
  },
  {
   "cell_type": "code",
   "execution_count": 59,
   "metadata": {},
   "outputs": [],
   "source": [
    "# save region geojson\n",
    "with open('data/territory/gdf_zones_regions.geojson', 'w') as f:\n",
    "    f.write(gdf_zones_regions.to_json())"
   ]
  },
  {
   "cell_type": "code",
   "execution_count": 60,
   "metadata": {},
   "outputs": [
    {
     "name": "stdout",
     "output_type": "stream",
     "text": [
      "File uploaded to opengeokpi-bucket.\n"
     ]
    }
   ],
   "source": [
    "# upload in google storage\n",
    "blob = bucket.blob('refine/territory/regions.json')\n",
    "\n",
    "region_geojson_file  = 'data/territory/gdf_zones_regions.geojson'\n",
    "blob.upload_from_filename(region_geojson_file)\n",
    "\n",
    "print(\"File uploaded to {}.\".format(bucket.name))"
   ]
  },
  {
   "cell_type": "code",
   "execution_count": 51,
   "metadata": {},
   "outputs": [],
   "source": [
    "# reload data to verify\n",
    "\n",
    "# get blobs\n",
    "#blob_regions = bucket.blob('raw/territoire/regions.json')\n",
    "\n",
    "# Download the contents of the blob as a string and then parse it using json.loads() method\n",
    "#data_regions = json.loads(blob_regions.download_as_string(client=None))\n",
    "\n",
    "# convert geojson to geopandadataframe\n",
    "#gdf_regions = gpd.GeoDataFrame.from_features(data_regions[\"features\"])\n",
    "#gdf_regions.head()"
   ]
  },
  {
   "cell_type": "markdown",
   "metadata": {},
   "source": [
    "## Departements"
   ]
  },
  {
   "cell_type": "code",
   "execution_count": 52,
   "metadata": {},
   "outputs": [
    {
     "data": {
      "text/html": [
       "<div>\n",
       "<style scoped>\n",
       "    .dataframe tbody tr th:only-of-type {\n",
       "        vertical-align: middle;\n",
       "    }\n",
       "\n",
       "    .dataframe tbody tr th {\n",
       "        vertical-align: top;\n",
       "    }\n",
       "\n",
       "    .dataframe thead th {\n",
       "        text-align: right;\n",
       "    }\n",
       "</style>\n",
       "<table border=\"1\" class=\"dataframe\">\n",
       "  <thead>\n",
       "    <tr style=\"text-align: right;\">\n",
       "      <th></th>\n",
       "      <th>geometry</th>\n",
       "      <th>level</th>\n",
       "      <th>code</th>\n",
       "      <th>name</th>\n",
       "      <th>wikidata</th>\n",
       "      <th>wikipedia</th>\n",
       "      <th>population</th>\n",
       "      <th>area</th>\n",
       "      <th>flag</th>\n",
       "      <th>keys</th>\n",
       "      <th>parents</th>\n",
       "      <th>id</th>\n",
       "      <th>color</th>\n",
       "      <th>website</th>\n",
       "      <th>validity</th>\n",
       "      <th>blazon</th>\n",
       "      <th>successors</th>\n",
       "      <th>ancestors</th>\n",
       "    </tr>\n",
       "  </thead>\n",
       "  <tbody>\n",
       "    <tr>\n",
       "      <th>43705</th>\n",
       "      <td>MULTIPOLYGON (((5.80669 46.04423, 5.80887 46.0...</td>\n",
       "      <td>fr:departement</td>\n",
       "      <td>01</td>\n",
       "      <td>Ain</td>\n",
       "      <td>Q3083</td>\n",
       "      <td>fr:Ain_(d%C3%A9partement)</td>\n",
       "      <td>631877.0</td>\n",
       "      <td>5762.0</td>\n",
       "      <td>Flag_of_Ain.svg</td>\n",
       "      <td>{'insee': '01', 'nuts3': 'fr711', 'geonames': ...</td>\n",
       "      <td>[country:fr, country-group:ue, country-group:w...</td>\n",
       "      <td>fr:departement:01@1860-07-01</td>\n",
       "      <td>#536eac</td>\n",
       "      <td>http://www.ain.fr/</td>\n",
       "      <td>{'start': '1860-07-01', 'end': None}</td>\n",
       "      <td>Blason_d%C3%A9partement_fr_Ain.svg</td>\n",
       "      <td>NaN</td>\n",
       "      <td>NaN</td>\n",
       "    </tr>\n",
       "    <tr>\n",
       "      <th>43706</th>\n",
       "      <td>MULTIPOLYGON (((3.07681 49.35563, 3.07741 49.3...</td>\n",
       "      <td>fr:departement</td>\n",
       "      <td>02</td>\n",
       "      <td>Aisne</td>\n",
       "      <td>Q3093</td>\n",
       "      <td>fr:Aisne_(d%C3%A9partement)</td>\n",
       "      <td>538659.0</td>\n",
       "      <td>7369.0</td>\n",
       "      <td>Drapeau_fr_d%C3%A9partement_Aisne.svg</td>\n",
       "      <td>{'insee': '02', 'nuts3': 'fr221', 'geonames': ...</td>\n",
       "      <td>[country:fr, country-group:ue, country-group:w...</td>\n",
       "      <td>fr:departement:02@1860-07-01</td>\n",
       "      <td>#58783a</td>\n",
       "      <td>http://www.aisne.pref.gouv.fr/</td>\n",
       "      <td>{'start': '1860-07-01', 'end': None}</td>\n",
       "      <td>Blason_d%C3%A9partement_fr_Aisne.svg</td>\n",
       "      <td>NaN</td>\n",
       "      <td>NaN</td>\n",
       "    </tr>\n",
       "    <tr>\n",
       "      <th>43707</th>\n",
       "      <td>MULTIPOLYGON (((3.23258 46.06980, 3.22433 46.0...</td>\n",
       "      <td>fr:departement</td>\n",
       "      <td>03</td>\n",
       "      <td>Allier</td>\n",
       "      <td>Q3113</td>\n",
       "      <td>fr:Allier_(d%C3%A9partement)</td>\n",
       "      <td>341613.0</td>\n",
       "      <td>7340.0</td>\n",
       "      <td>Drapeau_fr_d%C3%A9partement_Allier.svg</td>\n",
       "      <td>{'insee': '03', 'nuts3': 'fr721', 'geonames': ...</td>\n",
       "      <td>[country:fr, country-group:ue, country-group:w...</td>\n",
       "      <td>fr:departement:03@1860-07-01</td>\n",
       "      <td>#e0dc6c</td>\n",
       "      <td>http://www.allier.pref.gouv.fr/</td>\n",
       "      <td>{'start': '1860-07-01', 'end': None}</td>\n",
       "      <td>Blason_comte_fr_Clermont_(Bourbon).svg</td>\n",
       "      <td>NaN</td>\n",
       "      <td>NaN</td>\n",
       "    </tr>\n",
       "    <tr>\n",
       "      <th>43708</th>\n",
       "      <td>None</td>\n",
       "      <td>fr:departement</td>\n",
       "      <td>04</td>\n",
       "      <td>Basses-Alpes</td>\n",
       "      <td>NaN</td>\n",
       "      <td>NaN</td>\n",
       "      <td>NaN</td>\n",
       "      <td>NaN</td>\n",
       "      <td>NaN</td>\n",
       "      <td>{'insee': '04'}</td>\n",
       "      <td>[country:fr, country-group:ue, country-group:w...</td>\n",
       "      <td>fr:departement:04@1860-07-01</td>\n",
       "      <td>#73e06c</td>\n",
       "      <td>NaN</td>\n",
       "      <td>{'start': '1860-07-01', 'end': '1970-04-12'}</td>\n",
       "      <td>NaN</td>\n",
       "      <td>[fr:departement:04@1970-04-13]</td>\n",
       "      <td>NaN</td>\n",
       "    </tr>\n",
       "    <tr>\n",
       "      <th>43709</th>\n",
       "      <td>MULTIPOLYGON (((5.65458 43.82504, 5.64606 43.8...</td>\n",
       "      <td>fr:departement</td>\n",
       "      <td>04</td>\n",
       "      <td>Alpes-de-Haute-Provence</td>\n",
       "      <td>Q3131</td>\n",
       "      <td>fr:Alpes-de-Haute-Provence</td>\n",
       "      <td>161799.0</td>\n",
       "      <td>6925.0</td>\n",
       "      <td>NaN</td>\n",
       "      <td>{'insee': '04', 'nuts3': 'fr821', 'geonames': ...</td>\n",
       "      <td>[country:fr, country-group:ue, country-group:w...</td>\n",
       "      <td>fr:departement:04@1970-04-13</td>\n",
       "      <td>#40bfa4</td>\n",
       "      <td>http://www.alpes-de-haute-provence.pref.gouv.fr/</td>\n",
       "      <td>{'start': '1970-04-13', 'end': None}</td>\n",
       "      <td>NaN</td>\n",
       "      <td>NaN</td>\n",
       "      <td>[fr:departement:04@1860-07-01]</td>\n",
       "    </tr>\n",
       "  </tbody>\n",
       "</table>\n",
       "</div>"
      ],
      "text/plain": [
       "                                                geometry           level code  \\\n",
       "43705  MULTIPOLYGON (((5.80669 46.04423, 5.80887 46.0...  fr:departement   01   \n",
       "43706  MULTIPOLYGON (((3.07681 49.35563, 3.07741 49.3...  fr:departement   02   \n",
       "43707  MULTIPOLYGON (((3.23258 46.06980, 3.22433 46.0...  fr:departement   03   \n",
       "43708                                               None  fr:departement   04   \n",
       "43709  MULTIPOLYGON (((5.65458 43.82504, 5.64606 43.8...  fr:departement   04   \n",
       "\n",
       "                          name wikidata                     wikipedia  \\\n",
       "43705                      Ain    Q3083     fr:Ain_(d%C3%A9partement)   \n",
       "43706                    Aisne    Q3093   fr:Aisne_(d%C3%A9partement)   \n",
       "43707                   Allier    Q3113  fr:Allier_(d%C3%A9partement)   \n",
       "43708             Basses-Alpes      NaN                           NaN   \n",
       "43709  Alpes-de-Haute-Provence    Q3131    fr:Alpes-de-Haute-Provence   \n",
       "\n",
       "       population    area                                    flag  \\\n",
       "43705    631877.0  5762.0                         Flag_of_Ain.svg   \n",
       "43706    538659.0  7369.0   Drapeau_fr_d%C3%A9partement_Aisne.svg   \n",
       "43707    341613.0  7340.0  Drapeau_fr_d%C3%A9partement_Allier.svg   \n",
       "43708         NaN     NaN                                     NaN   \n",
       "43709    161799.0  6925.0                                     NaN   \n",
       "\n",
       "                                                    keys  \\\n",
       "43705  {'insee': '01', 'nuts3': 'fr711', 'geonames': ...   \n",
       "43706  {'insee': '02', 'nuts3': 'fr221', 'geonames': ...   \n",
       "43707  {'insee': '03', 'nuts3': 'fr721', 'geonames': ...   \n",
       "43708                                    {'insee': '04'}   \n",
       "43709  {'insee': '04', 'nuts3': 'fr821', 'geonames': ...   \n",
       "\n",
       "                                                 parents  \\\n",
       "43705  [country:fr, country-group:ue, country-group:w...   \n",
       "43706  [country:fr, country-group:ue, country-group:w...   \n",
       "43707  [country:fr, country-group:ue, country-group:w...   \n",
       "43708  [country:fr, country-group:ue, country-group:w...   \n",
       "43709  [country:fr, country-group:ue, country-group:w...   \n",
       "\n",
       "                                 id    color  \\\n",
       "43705  fr:departement:01@1860-07-01  #536eac   \n",
       "43706  fr:departement:02@1860-07-01  #58783a   \n",
       "43707  fr:departement:03@1860-07-01  #e0dc6c   \n",
       "43708  fr:departement:04@1860-07-01  #73e06c   \n",
       "43709  fr:departement:04@1970-04-13  #40bfa4   \n",
       "\n",
       "                                                website  \\\n",
       "43705                                http://www.ain.fr/   \n",
       "43706                    http://www.aisne.pref.gouv.fr/   \n",
       "43707                   http://www.allier.pref.gouv.fr/   \n",
       "43708                                               NaN   \n",
       "43709  http://www.alpes-de-haute-provence.pref.gouv.fr/   \n",
       "\n",
       "                                           validity  \\\n",
       "43705          {'start': '1860-07-01', 'end': None}   \n",
       "43706          {'start': '1860-07-01', 'end': None}   \n",
       "43707          {'start': '1860-07-01', 'end': None}   \n",
       "43708  {'start': '1860-07-01', 'end': '1970-04-12'}   \n",
       "43709          {'start': '1970-04-13', 'end': None}   \n",
       "\n",
       "                                       blazon                      successors  \\\n",
       "43705      Blason_d%C3%A9partement_fr_Ain.svg                             NaN   \n",
       "43706    Blason_d%C3%A9partement_fr_Aisne.svg                             NaN   \n",
       "43707  Blason_comte_fr_Clermont_(Bourbon).svg                             NaN   \n",
       "43708                                     NaN  [fr:departement:04@1970-04-13]   \n",
       "43709                                     NaN                             NaN   \n",
       "\n",
       "                            ancestors  \n",
       "43705                             NaN  \n",
       "43706                             NaN  \n",
       "43707                             NaN  \n",
       "43708                             NaN  \n",
       "43709  [fr:departement:04@1860-07-01]  "
      ]
     },
     "execution_count": 52,
     "metadata": {},
     "output_type": "execute_result"
    }
   ],
   "source": [
    "# select departement\n",
    "gdf_zones_departement =  gdf_zones[gdf_zones.level == 'fr:departement']"
   ]
  },
  {
   "cell_type": "code",
   "execution_count": 61,
   "metadata": {},
   "outputs": [],
   "source": [
    "# subset columns\n",
    "gdf_zones_departement = gdf_zones_departement[['geometry','level','code','name','population','area']]"
   ]
  },
  {
   "cell_type": "code",
   "execution_count": 62,
   "metadata": {},
   "outputs": [],
   "source": [
    "# save region geojson\n",
    "with open('data/territory/gdf_zones_departement.geojson', 'w') as f:\n",
    "    f.write(gdf_zones_departement.to_json())"
   ]
  },
  {
   "cell_type": "code",
   "execution_count": 63,
   "metadata": {},
   "outputs": [
    {
     "name": "stdout",
     "output_type": "stream",
     "text": [
      "File uploaded to opengeokpi-bucket.\n"
     ]
    }
   ],
   "source": [
    "# upload in google storage\n",
    "blob = bucket.blob('refine/territory/departements.json')\n",
    "\n",
    "departement_geojson_file  = 'data/territory/gdf_zones_departement.geojson'\n",
    "blob.upload_from_filename(departement_geojson_file)\n",
    "\n",
    "print(\"File uploaded to {}.\".format(bucket.name))"
   ]
  },
  {
   "cell_type": "markdown",
   "metadata": {},
   "source": [
    "## communes"
   ]
  },
  {
   "cell_type": "code",
   "execution_count": 65,
   "metadata": {},
   "outputs": [],
   "source": [
    "# select communes\n",
    "gdf_zones_communes =  gdf_zones[gdf_zones.level == 'fr:commune']"
   ]
  },
  {
   "cell_type": "code",
   "execution_count": 67,
   "metadata": {},
   "outputs": [],
   "source": [
    "# subset columns\n",
    "gdf_zones_communes = gdf_zones_communes[['geometry','level','code','name','population','area']]"
   ]
  },
  {
   "cell_type": "code",
   "execution_count": 68,
   "metadata": {},
   "outputs": [],
   "source": [
    "# save region geojson\n",
    "with open('data/territory/gdf_zones_communes.geojson', 'w') as f:\n",
    "    f.write(gdf_zones_communes.to_json())"
   ]
  },
  {
   "cell_type": "code",
   "execution_count": 69,
   "metadata": {},
   "outputs": [
    {
     "name": "stdout",
     "output_type": "stream",
     "text": [
      "File uploaded to opengeokpi-bucket.\n"
     ]
    }
   ],
   "source": [
    "# upload in google storage\n",
    "blob = bucket.blob('refine/territory/communes.json')\n",
    "\n",
    "communes_geojson_file  = 'data/territory/gdf_zones_communes.geojson'\n",
    "blob.upload_from_filename(communes_geojson_file)\n",
    "\n",
    "print(\"File uploaded to {}.\".format(bucket.name))"
   ]
  },
  {
   "cell_type": "code",
   "execution_count": null,
   "metadata": {},
   "outputs": [],
   "source": []
  }
 ],
 "metadata": {
  "environment": {
   "name": "common-cpu.m54",
   "type": "gcloud",
   "uri": "gcr.io/deeplearning-platform-release/base-cpu:m54"
  },
  "kernelspec": {
   "display_name": "Python 3",
   "language": "python",
   "name": "python3"
  },
  "language_info": {
   "codemirror_mode": {
    "name": "ipython",
    "version": 3
   },
   "file_extension": ".py",
   "mimetype": "text/x-python",
   "name": "python",
   "nbconvert_exporter": "python",
   "pygments_lexer": "ipython3",
   "version": "3.7.8"
  }
 },
 "nbformat": 4,
 "nbformat_minor": 4
}
