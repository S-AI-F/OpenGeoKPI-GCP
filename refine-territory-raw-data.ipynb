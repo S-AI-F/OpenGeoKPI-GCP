{
 "cells": [
  {
   "cell_type": "markdown",
   "metadata": {},
   "source": [
    "# Get Territory raw data data from google cloud storage"
   ]
  },
  {
   "cell_type": "code",
   "execution_count": 114,
   "metadata": {},
   "outputs": [],
   "source": [
    "from google.cloud import storage\n",
    "import json"
   ]
  },
  {
   "cell_type": "code",
   "execution_count": 115,
   "metadata": {},
   "outputs": [],
   "source": [
    "# Instantiate a Google Cloud Storage client and specify required bucket and file\n",
    "storage_client = storage.Client()\n",
    "bucket = storage_client.get_bucket('opengeokpi-bucket')"
   ]
  },
  {
   "cell_type": "code",
   "execution_count": 116,
   "metadata": {},
   "outputs": [],
   "source": [
    "# get blobs\n",
    "blob_zones = bucket.blob('raw/territory/geozones-france-2019.json')"
   ]
  },
  {
   "cell_type": "code",
   "execution_count": 117,
   "metadata": {},
   "outputs": [],
   "source": [
    "# Download the contents of the blob as a string and then parse it using json.loads() method\n",
    "data_zones = json.loads(blob_zones.download_as_string(client=None))"
   ]
  },
  {
   "cell_type": "markdown",
   "metadata": {},
   "source": [
    "# Prepare data\n",
    "## Regions"
   ]
  },
  {
   "cell_type": "code",
   "execution_count": 118,
   "metadata": {},
   "outputs": [],
   "source": [
    "import geopandas as gpd\n",
    "from shapely import wkt"
   ]
  },
  {
   "cell_type": "code",
   "execution_count": 119,
   "metadata": {},
   "outputs": [],
   "source": [
    "# convert geojson to geopandadataframe\n",
    "gdf_zones = gpd.GeoDataFrame.from_features(data_zones[\"features\"])"
   ]
  },
  {
   "cell_type": "code",
   "execution_count": 120,
   "metadata": {},
   "outputs": [],
   "source": [
    "# set crs\n",
    "gdf_zones = gdf_zones.set_crs(epsg=4326)"
   ]
  },
  {
   "cell_type": "code",
   "execution_count": 121,
   "metadata": {},
   "outputs": [],
   "source": [
    "# select regions\n",
    "gdf_zones_regions =  gdf_zones[gdf_zones.level == 'fr:region']"
   ]
  },
  {
   "cell_type": "code",
   "execution_count": 122,
   "metadata": {},
   "outputs": [],
   "source": [
    "# subset columns\n",
    "gdf_zones_regions = gdf_zones_regions[['geometry','level','code','name','population','area']]"
   ]
  },
  {
   "cell_type": "code",
   "execution_count": 123,
   "metadata": {},
   "outputs": [],
   "source": [
    "# rename columns\n",
    "gdf_zones_regions = gdf_zones_regions.rename(columns={\n",
    "                                  \"level\": \"regions_level\",\n",
    "                                 \"code\": \"regions_code\",\n",
    "                                  \"name\":\"regions_name\",\n",
    "                                 \"population\":\"regions_population\",\n",
    "                                 \"area\":\"regions_area\"})"
   ]
  },
  {
   "cell_type": "code",
   "execution_count": 124,
   "metadata": {},
   "outputs": [
    {
     "data": {
      "text/plain": [
       "Series([], dtype: float64)"
      ]
     },
     "execution_count": 124,
     "metadata": {},
     "output_type": "execute_result"
    }
   ],
   "source": [
    "# check null values\n",
    "null_columns=gdf_zones_regions.columns[gdf_zones_regions.isnull().any()]\n",
    "gdf_zones_regions[null_columns].isnull().sum()"
   ]
  },
  {
   "cell_type": "code",
   "execution_count": 125,
   "metadata": {},
   "outputs": [],
   "source": [
    "# save region geojson\n",
    "with open('data/territory/gdf_zones_regions.geojson', 'w') as f:\n",
    "    f.write(gdf_zones_regions.to_json())"
   ]
  },
  {
   "cell_type": "code",
   "execution_count": 126,
   "metadata": {},
   "outputs": [
    {
     "name": "stdout",
     "output_type": "stream",
     "text": [
      "File uploaded to opengeokpi-bucket.\n"
     ]
    }
   ],
   "source": [
    "# upload in google storage\n",
    "blob = bucket.blob('refine/territory/regions.json')\n",
    "\n",
    "region_geojson_file  = 'data/territory/gdf_zones_regions.geojson'\n",
    "blob.upload_from_filename(region_geojson_file)\n",
    "\n",
    "print(\"File uploaded to {}.\".format(bucket.name))"
   ]
  },
  {
   "cell_type": "code",
   "execution_count": 127,
   "metadata": {},
   "outputs": [],
   "source": [
    "# reload data to verify\n",
    "\n",
    "# get blobs\n",
    "#blob_regions = bucket.blob('raw/territoire/regions.json')\n",
    "\n",
    "# Download the contents of the blob as a string and then parse it using json.loads() method\n",
    "#data_regions = json.loads(blob_regions.download_as_string(client=None))\n",
    "\n",
    "# convert geojson to geopandadataframe\n",
    "#gdf_regions = gpd.GeoDataFrame.from_features(data_regions[\"features\"])\n",
    "#gdf_regions.head()"
   ]
  },
  {
   "cell_type": "markdown",
   "metadata": {},
   "source": [
    "## Departements"
   ]
  },
  {
   "cell_type": "markdown",
   "metadata": {},
   "source": [
    "### Process data"
   ]
  },
  {
   "cell_type": "code",
   "execution_count": 128,
   "metadata": {},
   "outputs": [],
   "source": [
    "# select departement\n",
    "gdf_zones_departements =  gdf_zones[gdf_zones.level == 'fr:departement']"
   ]
  },
  {
   "cell_type": "code",
   "execution_count": 129,
   "metadata": {},
   "outputs": [],
   "source": [
    "# subset columns\n",
    "gdf_zones_departements = gdf_zones_departements[['geometry','level','code','name','population','area']]"
   ]
  },
  {
   "cell_type": "code",
   "execution_count": 130,
   "metadata": {},
   "outputs": [],
   "source": [
    "# rename columns\n",
    "gdf_zones_departements = gdf_zones_departements.rename(columns={\n",
    "                                  \"level\": \"departements_level\",\n",
    "                                 \"code\": \"departements_code\",\n",
    "                                  \"name\":\"departements_name\",\n",
    "                                 \"population\":\"departements_population\",\n",
    "                                 \"area\":\"departements_area\"})"
   ]
  },
  {
   "cell_type": "code",
   "execution_count": 131,
   "metadata": {},
   "outputs": [
    {
     "data": {
      "text/plain": [
       "geometry                   13\n",
       "departements_population    19\n",
       "departements_area          19\n",
       "dtype: int64"
      ]
     },
     "execution_count": 131,
     "metadata": {},
     "output_type": "execute_result"
    }
   ],
   "source": [
    "# check null values\n",
    "null_columns=gdf_zones_departements.columns[gdf_zones_departements.isnull().any()]\n",
    "gdf_zones_departements[null_columns].isnull().sum()"
   ]
  },
  {
   "cell_type": "code",
   "execution_count": 132,
   "metadata": {},
   "outputs": [],
   "source": [
    "# remove lines with null values in geometry\n",
    "gdf_zones_departements = gdf_zones_departements[~gdf_zones_departements['geometry'].isnull()]"
   ]
  },
  {
   "cell_type": "markdown",
   "metadata": {},
   "source": [
    "### Store refined data"
   ]
  },
  {
   "cell_type": "code",
   "execution_count": 133,
   "metadata": {},
   "outputs": [],
   "source": [
    "# save region geojson\n",
    "with open('data/territory/gdf_zones_departements.geojson', 'w') as f:\n",
    "    f.write(gdf_zones_departement.to_json())"
   ]
  },
  {
   "cell_type": "code",
   "execution_count": 134,
   "metadata": {},
   "outputs": [
    {
     "name": "stdout",
     "output_type": "stream",
     "text": [
      "File uploaded to opengeokpi-bucket.\n"
     ]
    }
   ],
   "source": [
    "# upload in google storage\n",
    "blob = bucket.blob('refine/territory/departements.json')\n",
    "\n",
    "departement_geojson_file  = 'data/territory/gdf_zones_departements.geojson'\n",
    "blob.upload_from_filename(departement_geojson_file)\n",
    "\n",
    "print(\"File uploaded to {}.\".format(bucket.name))"
   ]
  },
  {
   "cell_type": "markdown",
   "metadata": {},
   "source": [
    "## communes"
   ]
  },
  {
   "cell_type": "code",
   "execution_count": 135,
   "metadata": {},
   "outputs": [],
   "source": [
    "### Process raw data"
   ]
  },
  {
   "cell_type": "code",
   "execution_count": 136,
   "metadata": {},
   "outputs": [],
   "source": [
    "# select communes\n",
    "gdf_zones_communes =  gdf_zones[gdf_zones.level == 'fr:commune']"
   ]
  },
  {
   "cell_type": "code",
   "execution_count": 137,
   "metadata": {},
   "outputs": [],
   "source": [
    "# subset columns\n",
    "gdf_zones_communes = gdf_zones_communes[['geometry','level','code','name','population','area']]"
   ]
  },
  {
   "cell_type": "code",
   "execution_count": 138,
   "metadata": {},
   "outputs": [],
   "source": [
    "# rename columns\n",
    "gdf_zones_communes = gdf_zones_communes.rename(columns={\n",
    "                                  \"level\": \"communes_level\",\n",
    "                                 \"code\": \"communes_code\",\n",
    "                                  \"name\":\"communes_name\",\n",
    "                                 \"population\":\"communes_population\",\n",
    "                                 \"area\":\"communes_area\"})"
   ]
  },
  {
   "cell_type": "code",
   "execution_count": 139,
   "metadata": {},
   "outputs": [
    {
     "data": {
      "text/plain": [
       "geometry               5585\n",
       "communes_population    8527\n",
       "communes_area          5586\n",
       "dtype: int64"
      ]
     },
     "execution_count": 139,
     "metadata": {},
     "output_type": "execute_result"
    }
   ],
   "source": [
    "# check null values\n",
    "null_columns=gdf_zones_communes.columns[gdf_zones_communes.isnull().any()]\n",
    "gdf_zones_communes[null_columns].isnull().sum()"
   ]
  },
  {
   "cell_type": "code",
   "execution_count": 140,
   "metadata": {},
   "outputs": [],
   "source": [
    "# remove lines with null values in geometry\n",
    "gdf_zones_communes = gdf_zones_communes[~gdf_zones_communes['geometry'].isnull()]"
   ]
  },
  {
   "cell_type": "code",
   "execution_count": 141,
   "metadata": {},
   "outputs": [],
   "source": [
    "# save region geojson\n",
    "with open('data/territory/gdf_zones_communes.geojson', 'w') as f:\n",
    "    f.write(gdf_zones_communes.to_json())"
   ]
  },
  {
   "cell_type": "code",
   "execution_count": 142,
   "metadata": {},
   "outputs": [
    {
     "name": "stdout",
     "output_type": "stream",
     "text": [
      "File uploaded to opengeokpi-bucket.\n"
     ]
    }
   ],
   "source": [
    "# upload in google storage\n",
    "blob = bucket.blob('refine/territory/communes.json')\n",
    "\n",
    "communes_geojson_file  = 'data/territory/gdf_zones_communes.geojson'\n",
    "blob.upload_from_filename(communes_geojson_file)\n",
    "\n",
    "print(\"File uploaded to {}.\".format(bucket.name))"
   ]
  },
  {
   "cell_type": "markdown",
   "metadata": {},
   "source": [
    "### Plot communes"
   ]
  },
  {
   "cell_type": "code",
   "execution_count": 22,
   "metadata": {},
   "outputs": [],
   "source": [
    "import matplotlib.pyplot as plt"
   ]
  },
  {
   "cell_type": "code",
   "execution_count": 23,
   "metadata": {},
   "outputs": [
    {
     "data": {
      "text/plain": [
       "<AxesSubplot:>"
      ]
     },
     "execution_count": 23,
     "metadata": {},
     "output_type": "execute_result"
    },
    {
     "data": {
      "image/png": "[encoded data removed]",
      "text/plain": [
       "<Figure size 432x288 with 1 Axes>"
      ]
     },
     "metadata": {
      "needs_background": "light"
     },
     "output_type": "display_data"
    }
   ],
   "source": [
    "gdf_zones_communes.plot(facecolor='gray')"
   ]
  },
  {
   "cell_type": "markdown",
   "metadata": {},
   "source": [
    "# Load results in BigQuery"
   ]
  },
  {
   "cell_type": "code",
   "execution_count": 143,
   "metadata": {},
   "outputs": [],
   "source": [
    "from google.cloud import bigquery"
   ]
  },
  {
   "cell_type": "code",
   "execution_count": 144,
   "metadata": {},
   "outputs": [
    {
     "name": "stdout",
     "output_type": "stream",
     "text": [
      "Client creating using default project: test-rstudio-gcp\n"
     ]
    }
   ],
   "source": [
    "client = bigquery.Client(location=\"US\")\n",
    "print(\"Client creating using default project: {}\".format(client.project))"
   ]
  },
  {
   "cell_type": "code",
   "execution_count": 145,
   "metadata": {},
   "outputs": [],
   "source": [
    "# connect to existing dataset\n",
    "\n",
    "# Define a name for the dataset.\n",
    "dataset_id = 'opengeokpi'\n",
    "\n",
    "# The project defaults to the Client's project if not specified.\n",
    "dataset = client.get_dataset(dataset_id)  # API request# create new dataset\n",
    "\n",
    "# Define a name for the new dataset.\n",
    "dataset_id = 'opengeokpi'\n",
    "\n",
    "# The project defaults to the Client's project if not specified.\n",
    "dataset = client.get_dataset(dataset_id)  # API request"
   ]
  },
  {
   "cell_type": "code",
   "execution_count": 146,
   "metadata": {},
   "outputs": [],
   "source": [
    "# convert region geometry column to string\n",
    "gdf_zones_regions['str_geom_regions'] = gdf_zones_regions.geometry.apply(lambda x: wkt.dumps(x))\n",
    "gdf_zones_departements['str_geom_departements'] = gdf_zones_departements.geometry.apply(lambda x: wkt.dumps(x))\n",
    "gdf_zones_communes['str_geom_communes'] = gdf_zones_communes.geometry.apply(lambda x: wkt.dumps(x))"
   ]
  },
  {
   "cell_type": "code",
   "execution_count": 147,
   "metadata": {},
   "outputs": [
    {
     "data": {
      "text/html": [
       "<div>\n",
       "<style scoped>\n",
       "    .dataframe tbody tr th:only-of-type {\n",
       "        vertical-align: middle;\n",
       "    }\n",
       "\n",
       "    .dataframe tbody tr th {\n",
       "        vertical-align: top;\n",
       "    }\n",
       "\n",
       "    .dataframe thead th {\n",
       "        text-align: right;\n",
       "    }\n",
       "</style>\n",
       "<table border=\"1\" class=\"dataframe\">\n",
       "  <thead>\n",
       "    <tr style=\"text-align: right;\">\n",
       "      <th></th>\n",
       "      <th>geometry</th>\n",
       "      <th>regions_level</th>\n",
       "      <th>regions_code</th>\n",
       "      <th>regions_name</th>\n",
       "      <th>regions_population</th>\n",
       "      <th>regions_area</th>\n",
       "      <th>str_geom_regions</th>\n",
       "    </tr>\n",
       "  </thead>\n",
       "  <tbody>\n",
       "    <tr>\n",
       "      <th>51287</th>\n",
       "      <td>MULTIPOLYGON (((-61.61404 16.29611, -61.61550 ...</td>\n",
       "      <td>fr:region</td>\n",
       "      <td>01</td>\n",
       "      <td>Guadeloupe</td>\n",
       "      <td>397990.0</td>\n",
       "      <td>1628.0</td>\n",
       "      <td>MULTIPOLYGON (((-61.6140430000000023 16.296105...</td>\n",
       "    </tr>\n",
       "    <tr>\n",
       "      <th>51288</th>\n",
       "      <td>MULTIPOLYGON (((-61.00189 14.56262, -61.00297 ...</td>\n",
       "      <td>fr:region</td>\n",
       "      <td>02</td>\n",
       "      <td>Martinique</td>\n",
       "      <td>380877.0</td>\n",
       "      <td>1128.0</td>\n",
       "      <td>MULTIPOLYGON (((-61.0018859999999989 14.562618...</td>\n",
       "    </tr>\n",
       "    <tr>\n",
       "      <th>51289</th>\n",
       "      <td>MULTIPOLYGON (((-53.16965 5.52098, -53.15026 5...</td>\n",
       "      <td>fr:region</td>\n",
       "      <td>03</td>\n",
       "      <td>Guyane</td>\n",
       "      <td>282731.0</td>\n",
       "      <td>83534.0</td>\n",
       "      <td>MULTIPOLYGON (((-53.1696450000000027 5.5209840...</td>\n",
       "    </tr>\n",
       "    <tr>\n",
       "      <th>51290</th>\n",
       "      <td>MULTIPOLYGON (((55.80443 -21.25182, 55.80204 -...</td>\n",
       "      <td>fr:region</td>\n",
       "      <td>04</td>\n",
       "      <td>La Réunion</td>\n",
       "      <td>866506.0</td>\n",
       "      <td>2512.0</td>\n",
       "      <td>MULTIPOLYGON (((55.8044330000000031 -21.251815...</td>\n",
       "    </tr>\n",
       "    <tr>\n",
       "      <th>51291</th>\n",
       "      <td>MULTIPOLYGON (((45.12651 -12.93367, 45.13097 -...</td>\n",
       "      <td>fr:region</td>\n",
       "      <td>06</td>\n",
       "      <td>Mayotte</td>\n",
       "      <td>226915.0</td>\n",
       "      <td>376.0</td>\n",
       "      <td>MULTIPOLYGON (((45.1265140000000002 -12.933668...</td>\n",
       "    </tr>\n",
       "  </tbody>\n",
       "</table>\n",
       "</div>"
      ],
      "text/plain": [
       "                                                geometry regions_level  \\\n",
       "51287  MULTIPOLYGON (((-61.61404 16.29611, -61.61550 ...     fr:region   \n",
       "51288  MULTIPOLYGON (((-61.00189 14.56262, -61.00297 ...     fr:region   \n",
       "51289  MULTIPOLYGON (((-53.16965 5.52098, -53.15026 5...     fr:region   \n",
       "51290  MULTIPOLYGON (((55.80443 -21.25182, 55.80204 -...     fr:region   \n",
       "51291  MULTIPOLYGON (((45.12651 -12.93367, 45.13097 -...     fr:region   \n",
       "\n",
       "      regions_code regions_name  regions_population  regions_area  \\\n",
       "51287           01   Guadeloupe            397990.0        1628.0   \n",
       "51288           02   Martinique            380877.0        1128.0   \n",
       "51289           03       Guyane            282731.0       83534.0   \n",
       "51290           04   La Réunion            866506.0        2512.0   \n",
       "51291           06      Mayotte            226915.0         376.0   \n",
       "\n",
       "                                        str_geom_regions  \n",
       "51287  MULTIPOLYGON (((-61.6140430000000023 16.296105...  \n",
       "51288  MULTIPOLYGON (((-61.0018859999999989 14.562618...  \n",
       "51289  MULTIPOLYGON (((-53.1696450000000027 5.5209840...  \n",
       "51290  MULTIPOLYGON (((55.8044330000000031 -21.251815...  \n",
       "51291  MULTIPOLYGON (((45.1265140000000002 -12.933668...  "
      ]
     },
     "execution_count": 147,
     "metadata": {},
     "output_type": "execute_result"
    }
   ],
   "source": [
    "gdf_zones_regions.head()"
   ]
  },
  {
   "cell_type": "code",
   "execution_count": 148,
   "metadata": {},
   "outputs": [],
   "source": [
    "# drop geometry column\n",
    "zones_regions_df = gdf_zones_regions.drop(columns=['geometry'])\n",
    "zones_departements_df = gdf_zones_departements.drop(columns=['geometry'])\n",
    "zones_communes_df = gdf_zones_communes.drop(columns=['geometry'])"
   ]
  },
  {
   "cell_type": "markdown",
   "metadata": {},
   "source": [
    "## Load zones_regions_geo"
   ]
  },
  {
   "cell_type": "code",
   "execution_count": 149,
   "metadata": {},
   "outputs": [
    {
     "name": "stdout",
     "output_type": "stream",
     "text": [
      "Loaded dataframe to /projects/test-rstudio-gcp/datasets/opengeokpi/tables/zones_regions_df\n"
     ]
    }
   ],
   "source": [
    "# load zones_regions_df in bigquery\n",
    "table_ref = dataset.table(\"zones_regions_df\")\n",
    "job = client.load_table_from_dataframe(zones_regions_df, table_ref, location=\"US\")\n",
    "\n",
    "job.result()  # Waits for table load to complete.\n",
    "print(\"Loaded dataframe to {}\".format(table_ref.path))"
   ]
  },
  {
   "cell_type": "code",
   "execution_count": 150,
   "metadata": {},
   "outputs": [
    {
     "name": "stdout",
     "output_type": "stream",
     "text": [
      "Query results loaded to table /projects/test-rstudio-gcp/datasets/opengeokpi/tables/zones_regions_geo\n"
     ]
    }
   ],
   "source": [
    "# create zones_regions_geo in bigquery\n",
    "sql = \"\"\"\n",
    "    SELECT\n",
    "  ST_GEOGFROMTEXT(str_geom_regions) AS geom_region,\n",
    "  regions_level,\n",
    "  regions_code,\n",
    "  regions_name,\n",
    "  regions_population,\n",
    "  regions_area\n",
    "FROM\n",
    "  `test-rstudio-gcp.opengeokpi.zones_regions_df` ;\n",
    "\"\"\"\n",
    "table_ref = dataset.table(\"zones_regions_geo\")\n",
    "job_config = bigquery.QueryJobConfig(\n",
    "    destination=table_ref\n",
    ")\n",
    "\n",
    "\n",
    "# Start the query, passing in the extra configuration.\n",
    "query_job = client.query(sql, location=\"US\", job_config=job_config)\n",
    "\n",
    "query_job.result()  # Waits for the query to finish\n",
    "print(\"Query results loaded to table {}\".format(table_ref.path))"
   ]
  },
  {
   "cell_type": "markdown",
   "metadata": {},
   "source": [
    "## Load zones_departements_geo"
   ]
  },
  {
   "cell_type": "code",
   "execution_count": 151,
   "metadata": {},
   "outputs": [
    {
     "name": "stdout",
     "output_type": "stream",
     "text": [
      "Loaded dataframe to /projects/test-rstudio-gcp/datasets/opengeokpi/tables/zones_departements_df\n"
     ]
    }
   ],
   "source": [
    "# load zones_departements_df in bigquery\n",
    "table_ref = dataset.table(\"zones_departements_df\")\n",
    "job = client.load_table_from_dataframe(zones_departements_df, table_ref, location=\"US\")\n",
    "\n",
    "job.result()  # Waits for table load to complete.\n",
    "print(\"Loaded dataframe to {}\".format(table_ref.path))"
   ]
  },
  {
   "cell_type": "code",
   "execution_count": 152,
   "metadata": {},
   "outputs": [
    {
     "name": "stdout",
     "output_type": "stream",
     "text": [
      "Query results loaded to table /projects/test-rstudio-gcp/datasets/opengeokpi/tables/zones_departements_geo\n"
     ]
    }
   ],
   "source": [
    "# create zones_departements_geo in bigquery\n",
    "sql = \"\"\"\n",
    "    SELECT\n",
    "  ST_GEOGFROMTEXT(str_geom_departements) AS geom_departements,\n",
    "  departements_level,\n",
    "  departements_code,\n",
    "  departements_name,\n",
    "  departements_population,\n",
    "  departements_area\n",
    "FROM\n",
    "  `test-rstudio-gcp.opengeokpi.zones_departements_df` ;\n",
    "\"\"\"\n",
    "table_ref = dataset.table(\"zones_departements_geo\")\n",
    "job_config = bigquery.QueryJobConfig(\n",
    "    destination=table_ref\n",
    ")\n",
    "\n",
    "\n",
    "# Start the query, passing in the extra configuration.\n",
    "query_job = client.query(sql, location=\"US\", job_config=job_config)\n",
    "\n",
    "query_job.result()  # Waits for the query to finish\n",
    "print(\"Query results loaded to table {}\".format(table_ref.path))"
   ]
  },
  {
   "cell_type": "markdown",
   "metadata": {},
   "source": [
    "## Load zones_communes_geo"
   ]
  },
  {
   "cell_type": "code",
   "execution_count": 153,
   "metadata": {},
   "outputs": [
    {
     "name": "stdout",
     "output_type": "stream",
     "text": [
      "Loaded dataframe to /projects/test-rstudio-gcp/datasets/opengeokpi/tables/zones_communes_df\n"
     ]
    }
   ],
   "source": [
    "# load zones_departements_df in bigquery\n",
    "table_ref = dataset.table(\"zones_communes_df\")\n",
    "job = client.load_table_from_dataframe(zones_communes_df, table_ref, location=\"US\")\n",
    "\n",
    "job.result()  # Waits for table load to complete.\n",
    "print(\"Loaded dataframe to {}\".format(table_ref.path))"
   ]
  },
  {
   "cell_type": "code",
   "execution_count": 154,
   "metadata": {},
   "outputs": [
    {
     "name": "stdout",
     "output_type": "stream",
     "text": [
      "Query results loaded to table /projects/test-rstudio-gcp/datasets/opengeokpi/tables/zones_communes_geo\n"
     ]
    }
   ],
   "source": [
    "# create zones_communes_geo in bigquery\n",
    "sql = \"\"\"\n",
    "    SELECT\n",
    "  ST_GEOGFROMTEXT(str_geom_communes) AS geom_communes,\n",
    "  communes_level,\n",
    "  communes_code,\n",
    "  communes_name,\n",
    "  communes_population,\n",
    "  communes_area\n",
    "FROM\n",
    "  `test-rstudio-gcp.opengeokpi.zones_communes_df` ;\n",
    "\"\"\"\n",
    "table_ref = dataset.table(\"zones_communes_geo\")\n",
    "job_config = bigquery.QueryJobConfig(\n",
    "    destination=table_ref\n",
    ")\n",
    "\n",
    "\n",
    "# Start the query, passing in the extra configuration.\n",
    "query_job = client.query(sql, location=\"US\", job_config=job_config)\n",
    "\n",
    "query_job.result()  # Waits for the query to finish\n",
    "print(\"Query results loaded to table {}\".format(table_ref.path))"
   ]
  },
  {
   "cell_type": "code",
   "execution_count": null,
   "metadata": {},
   "outputs": [],
   "source": []
  }
 ],
 "metadata": {
  "environment": {
   "name": "common-cpu.m54",
   "type": "gcloud",
   "uri": "gcr.io/deeplearning-platform-release/base-cpu:m54"
  },
  "kernelspec": {
   "display_name": "Python 3",
   "language": "python",
   "name": "python3"
  },
  "language_info": {
   "codemirror_mode": {
    "name": "ipython",
    "version": 3
   },
   "file_extension": ".py",
   "mimetype": "text/x-python",
   "name": "python",
   "nbconvert_exporter": "python",
   "pygments_lexer": "ipython3",
   "version": "3.7.8"
  }
 },
 "nbformat": 4,
 "nbformat_minor": 4
}
