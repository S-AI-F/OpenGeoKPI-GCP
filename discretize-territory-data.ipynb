{
 "cells": [
  {
   "cell_type": "markdown",
   "metadata": {},
   "source": [
    "# Get raw data data from google cloud storage"
   ]
  },
  {
   "cell_type": "code",
   "execution_count": 13,
   "metadata": {},
   "outputs": [],
   "source": [
    "# Import the Google Cloud client library and JSON library\n",
    "from google.cloud import storage\n",
    "import json"
   ]
  },
  {
   "cell_type": "code",
   "execution_count": 38,
   "metadata": {},
   "outputs": [],
   "source": [
    "# Instantiate a Google Cloud Storage client and specify required bucket and file\n",
    "storage_client = storage.Client()\n",
    "bucket = storage_client.get_bucket('opengeokpi-bucket')"
   ]
  },
  {
   "cell_type": "code",
   "execution_count": 39,
   "metadata": {},
   "outputs": [],
   "source": [
    "# get blobs\n",
    "blob_departements = bucket.blob('refine/territory/departements.json')"
   ]
  },
  {
   "cell_type": "code",
   "execution_count": 40,
   "metadata": {},
   "outputs": [],
   "source": [
    "# Download the contents of the blob as a string and then parse it using json.loads() method\n",
    "data_departements = json.loads(blob_departements.download_as_string(client=None))"
   ]
  },
  {
   "cell_type": "markdown",
   "metadata": {},
   "source": [
    "# Prepare data"
   ]
  },
  {
   "cell_type": "code",
   "execution_count": 41,
   "metadata": {},
   "outputs": [],
   "source": [
    "import geopandas as gpd\n",
    "from shapely import wkt"
   ]
  },
  {
   "cell_type": "code",
   "execution_count": 42,
   "metadata": {},
   "outputs": [],
   "source": [
    "# convert geojson to geopandadataframe\n",
    "gdf_departements = gpd.GeoDataFrame.from_features(data_departements[\"features\"])"
   ]
  },
  {
   "cell_type": "code",
   "execution_count": 43,
   "metadata": {},
   "outputs": [],
   "source": [
    "# set crs\n",
    "gdf_departements = gdf_departements.set_crs(epsg=4326)"
   ]
  },
  {
   "cell_type": "code",
   "execution_count": 67,
   "metadata": {},
   "outputs": [
    {
     "data": {
      "text/html": [
       "<div>\n",
       "<style scoped>\n",
       "    .dataframe tbody tr th:only-of-type {\n",
       "        vertical-align: middle;\n",
       "    }\n",
       "\n",
       "    .dataframe tbody tr th {\n",
       "        vertical-align: top;\n",
       "    }\n",
       "\n",
       "    .dataframe thead th {\n",
       "        text-align: right;\n",
       "    }\n",
       "</style>\n",
       "<table border=\"1\" class=\"dataframe\">\n",
       "  <thead>\n",
       "    <tr style=\"text-align: right;\">\n",
       "      <th></th>\n",
       "      <th>geometry</th>\n",
       "      <th>departements_area</th>\n",
       "      <th>departements_code</th>\n",
       "      <th>departements_level</th>\n",
       "      <th>departements_name</th>\n",
       "      <th>departements_population</th>\n",
       "    </tr>\n",
       "  </thead>\n",
       "  <tbody>\n",
       "    <tr>\n",
       "      <th>0</th>\n",
       "      <td>MULTIPOLYGON (((5.80669 46.04423, 5.80887 46.0...</td>\n",
       "      <td>5762.0</td>\n",
       "      <td>01</td>\n",
       "      <td>fr:departement</td>\n",
       "      <td>Ain</td>\n",
       "      <td>631877.0</td>\n",
       "    </tr>\n",
       "    <tr>\n",
       "      <th>1</th>\n",
       "      <td>MULTIPOLYGON (((3.07681 49.35563, 3.07741 49.3...</td>\n",
       "      <td>7369.0</td>\n",
       "      <td>02</td>\n",
       "      <td>fr:departement</td>\n",
       "      <td>Aisne</td>\n",
       "      <td>538659.0</td>\n",
       "    </tr>\n",
       "    <tr>\n",
       "      <th>2</th>\n",
       "      <td>MULTIPOLYGON (((3.23258 46.06980, 3.22433 46.0...</td>\n",
       "      <td>7340.0</td>\n",
       "      <td>03</td>\n",
       "      <td>fr:departement</td>\n",
       "      <td>Allier</td>\n",
       "      <td>341613.0</td>\n",
       "    </tr>\n",
       "    <tr>\n",
       "      <th>3</th>\n",
       "      <td>MULTIPOLYGON (((5.65458 43.82504, 5.64606 43.8...</td>\n",
       "      <td>6925.0</td>\n",
       "      <td>04</td>\n",
       "      <td>fr:departement</td>\n",
       "      <td>Alpes-de-Haute-Provence</td>\n",
       "      <td>161799.0</td>\n",
       "    </tr>\n",
       "    <tr>\n",
       "      <th>4</th>\n",
       "      <td>MULTIPOLYGON (((6.88366 44.84781, 6.88811 44.8...</td>\n",
       "      <td>5549.0</td>\n",
       "      <td>05</td>\n",
       "      <td>fr:departement</td>\n",
       "      <td>Hautes-Alpes</td>\n",
       "      <td>140916.0</td>\n",
       "    </tr>\n",
       "  </tbody>\n",
       "</table>\n",
       "</div>"
      ],
      "text/plain": [
       "                                            geometry  departements_area  \\\n",
       "0  MULTIPOLYGON (((5.80669 46.04423, 5.80887 46.0...             5762.0   \n",
       "1  MULTIPOLYGON (((3.07681 49.35563, 3.07741 49.3...             7369.0   \n",
       "2  MULTIPOLYGON (((3.23258 46.06980, 3.22433 46.0...             7340.0   \n",
       "3  MULTIPOLYGON (((5.65458 43.82504, 5.64606 43.8...             6925.0   \n",
       "4  MULTIPOLYGON (((6.88366 44.84781, 6.88811 44.8...             5549.0   \n",
       "\n",
       "  departements_code departements_level        departements_name  \\\n",
       "0                01     fr:departement                      Ain   \n",
       "1                02     fr:departement                    Aisne   \n",
       "2                03     fr:departement                   Allier   \n",
       "3                04     fr:departement  Alpes-de-Haute-Provence   \n",
       "4                05     fr:departement             Hautes-Alpes   \n",
       "\n",
       "   departements_population  \n",
       "0                 631877.0  \n",
       "1                 538659.0  \n",
       "2                 341613.0  \n",
       "3                 161799.0  \n",
       "4                 140916.0  "
      ]
     },
     "execution_count": 67,
     "metadata": {},
     "output_type": "execute_result"
    }
   ],
   "source": [
    "gdf_departements.head()"
   ]
  },
  {
   "cell_type": "code",
   "execution_count": 68,
   "metadata": {},
   "outputs": [
    {
     "data": {
      "text/html": [
       "<div>\n",
       "<style scoped>\n",
       "    .dataframe tbody tr th:only-of-type {\n",
       "        vertical-align: middle;\n",
       "    }\n",
       "\n",
       "    .dataframe tbody tr th {\n",
       "        vertical-align: top;\n",
       "    }\n",
       "\n",
       "    .dataframe thead th {\n",
       "        text-align: right;\n",
       "    }\n",
       "</style>\n",
       "<table border=\"1\" class=\"dataframe\">\n",
       "  <thead>\n",
       "    <tr style=\"text-align: right;\">\n",
       "      <th></th>\n",
       "      <th>geometry</th>\n",
       "      <th>departements_area</th>\n",
       "      <th>departements_code</th>\n",
       "      <th>departements_level</th>\n",
       "      <th>departements_name</th>\n",
       "      <th>departements_population</th>\n",
       "    </tr>\n",
       "  </thead>\n",
       "  <tbody>\n",
       "    <tr>\n",
       "      <th>75</th>\n",
       "      <td>MULTIPOLYGON (((2.22569 48.85944, 2.22824 48.8...</td>\n",
       "      <td>NaN</td>\n",
       "      <td>75</td>\n",
       "      <td>fr:departement</td>\n",
       "      <td>Paris</td>\n",
       "      <td>NaN</td>\n",
       "    </tr>\n",
       "  </tbody>\n",
       "</table>\n",
       "</div>"
      ],
      "text/plain": [
       "                                             geometry  departements_area  \\\n",
       "75  MULTIPOLYGON (((2.22569 48.85944, 2.22824 48.8...                NaN   \n",
       "\n",
       "   departements_code departements_level departements_name  \\\n",
       "75                75     fr:departement             Paris   \n",
       "\n",
       "    departements_population  \n",
       "75                      NaN  "
      ]
     },
     "execution_count": 68,
     "metadata": {},
     "output_type": "execute_result"
    }
   ],
   "source": [
    "# select paris\n",
    "gdf_departements_paris =  gdf_departements[gdf_departements.departements_code == '75']\n",
    "gdf_departements_paris.head()"
   ]
  },
  {
   "cell_type": "code",
   "execution_count": 69,
   "metadata": {},
   "outputs": [
    {
     "data": {
      "text/plain": [
       "<AxesSubplot:>"
      ]
     },
     "execution_count": 69,
     "metadata": {},
     "output_type": "execute_result"
    },
    {
     "data": {
      "image/png": "[encoded data removed]",
      "text/plain": [
       "<Figure size 432x288 with 1 Axes>"
      ]
     },
     "metadata": {
      "needs_background": "light"
     },
     "output_type": "display_data"
    }
   ],
   "source": [
    "import matplotlib.pyplot as plt\n",
    "gdf_departements_paris.plot(facecolor='gray')"
   ]
  },
  {
   "cell_type": "markdown",
   "metadata": {},
   "source": [
    "# rasterize paris"
   ]
  },
  {
   "cell_type": "code",
   "execution_count": 47,
   "metadata": {},
   "outputs": [],
   "source": [
    "import geopandas as gpd\n",
    "from shapely.geometry import Polygon\n",
    "import numpy as np"
   ]
  },
  {
   "cell_type": "code",
   "execution_count": 48,
   "metadata": {},
   "outputs": [
    {
     "name": "stdout",
     "output_type": "stream",
     "text": [
      "2.224169 48.815865 2.46976 48.902156\n"
     ]
    }
   ],
   "source": [
    "xmin,ymin,xmax,ymax = gdf_departements_paris.total_bounds\n",
    "print(xmin,ymin,xmax,ymax)"
   ]
  },
  {
   "cell_type": "code",
   "execution_count": 49,
   "metadata": {},
   "outputs": [],
   "source": [
    "# define final resolution \n",
    "length = 0.001\n",
    "wide = 0.00125 \n",
    "\n",
    "# define working resolution \n",
    "#length = 0.01\n",
    "#wide = 0.0125 "
   ]
  },
  {
   "cell_type": "code",
   "execution_count": 50,
   "metadata": {},
   "outputs": [],
   "source": [
    "np.arange(xmin,xmax,wide)\n",
    "cols = list(np.arange(xmin,xmax,wide))\n",
    "rows = list(np.arange(ymin,ymax,length))\n",
    "rows.reverse()"
   ]
  },
  {
   "cell_type": "code",
   "execution_count": 51,
   "metadata": {},
   "outputs": [],
   "source": [
    "polygons = []\n",
    "for x in cols:\n",
    "    for y in rows:\n",
    "        polygons.append( Polygon([(x,y), (x+wide, y), (x+wide, y-length), (x, y-length)]) )\n",
    "\n",
    "grid = gpd.GeoDataFrame({'geometry':polygons})"
   ]
  },
  {
   "cell_type": "code",
   "execution_count": 52,
   "metadata": {},
   "outputs": [],
   "source": [
    "# set crs\n",
    "grid = grid.set_crs(epsg=4326)"
   ]
  },
  {
   "cell_type": "code",
   "execution_count": 53,
   "metadata": {},
   "outputs": [
    {
     "data": {
      "text/html": [
       "<div>\n",
       "<style scoped>\n",
       "    .dataframe tbody tr th:only-of-type {\n",
       "        vertical-align: middle;\n",
       "    }\n",
       "\n",
       "    .dataframe tbody tr th {\n",
       "        vertical-align: top;\n",
       "    }\n",
       "\n",
       "    .dataframe thead th {\n",
       "        text-align: right;\n",
       "    }\n",
       "</style>\n",
       "<table border=\"1\" class=\"dataframe\">\n",
       "  <thead>\n",
       "    <tr style=\"text-align: right;\">\n",
       "      <th></th>\n",
       "      <th>geometry</th>\n",
       "      <th>ID</th>\n",
       "    </tr>\n",
       "  </thead>\n",
       "  <tbody>\n",
       "    <tr>\n",
       "      <th>0</th>\n",
       "      <td>POLYGON ((2.22417 48.90186, 2.22542 48.90186, ...</td>\n",
       "      <td>1</td>\n",
       "    </tr>\n",
       "    <tr>\n",
       "      <th>1</th>\n",
       "      <td>POLYGON ((2.22417 48.90086, 2.22542 48.90086, ...</td>\n",
       "      <td>2</td>\n",
       "    </tr>\n",
       "    <tr>\n",
       "      <th>2</th>\n",
       "      <td>POLYGON ((2.22417 48.89986, 2.22542 48.89986, ...</td>\n",
       "      <td>3</td>\n",
       "    </tr>\n",
       "    <tr>\n",
       "      <th>3</th>\n",
       "      <td>POLYGON ((2.22417 48.89886, 2.22542 48.89886, ...</td>\n",
       "      <td>4</td>\n",
       "    </tr>\n",
       "    <tr>\n",
       "      <th>4</th>\n",
       "      <td>POLYGON ((2.22417 48.89786, 2.22542 48.89786, ...</td>\n",
       "      <td>5</td>\n",
       "    </tr>\n",
       "  </tbody>\n",
       "</table>\n",
       "</div>"
      ],
      "text/plain": [
       "                                            geometry  ID\n",
       "0  POLYGON ((2.22417 48.90186, 2.22542 48.90186, ...   1\n",
       "1  POLYGON ((2.22417 48.90086, 2.22542 48.90086, ...   2\n",
       "2  POLYGON ((2.22417 48.89986, 2.22542 48.89986, ...   3\n",
       "3  POLYGON ((2.22417 48.89886, 2.22542 48.89886, ...   4\n",
       "4  POLYGON ((2.22417 48.89786, 2.22542 48.89786, ...   5"
      ]
     },
     "execution_count": 53,
     "metadata": {},
     "output_type": "execute_result"
    }
   ],
   "source": [
    "# Add Id column\n",
    "grid['ID'] = grid.index + 1\n",
    "grid.head()"
   ]
  },
  {
   "cell_type": "code",
   "execution_count": 54,
   "metadata": {},
   "outputs": [
    {
     "data": {
      "text/html": [
       "<div>\n",
       "<style scoped>\n",
       "    .dataframe tbody tr th:only-of-type {\n",
       "        vertical-align: middle;\n",
       "    }\n",
       "\n",
       "    .dataframe tbody tr th {\n",
       "        vertical-align: top;\n",
       "    }\n",
       "\n",
       "    .dataframe thead th {\n",
       "        text-align: right;\n",
       "    }\n",
       "</style>\n",
       "<table border=\"1\" class=\"dataframe\">\n",
       "  <thead>\n",
       "    <tr style=\"text-align: right;\">\n",
       "      <th></th>\n",
       "      <th>geometry</th>\n",
       "      <th>ID</th>\n",
       "    </tr>\n",
       "  </thead>\n",
       "  <tbody>\n",
       "    <tr>\n",
       "      <th>0</th>\n",
       "      <td>POLYGON ((2.22417 48.90186, 2.22542 48.90186, ...</td>\n",
       "      <td>1</td>\n",
       "    </tr>\n",
       "    <tr>\n",
       "      <th>1</th>\n",
       "      <td>POLYGON ((2.22417 48.90086, 2.22542 48.90086, ...</td>\n",
       "      <td>2</td>\n",
       "    </tr>\n",
       "    <tr>\n",
       "      <th>2</th>\n",
       "      <td>POLYGON ((2.22417 48.89986, 2.22542 48.89986, ...</td>\n",
       "      <td>3</td>\n",
       "    </tr>\n",
       "    <tr>\n",
       "      <th>3</th>\n",
       "      <td>POLYGON ((2.22417 48.89886, 2.22542 48.89886, ...</td>\n",
       "      <td>4</td>\n",
       "    </tr>\n",
       "    <tr>\n",
       "      <th>4</th>\n",
       "      <td>POLYGON ((2.22417 48.89786, 2.22542 48.89786, ...</td>\n",
       "      <td>5</td>\n",
       "    </tr>\n",
       "  </tbody>\n",
       "</table>\n",
       "</div>"
      ],
      "text/plain": [
       "                                            geometry  ID\n",
       "0  POLYGON ((2.22417 48.90186, 2.22542 48.90186, ...   1\n",
       "1  POLYGON ((2.22417 48.90086, 2.22542 48.90086, ...   2\n",
       "2  POLYGON ((2.22417 48.89986, 2.22542 48.89986, ...   3\n",
       "3  POLYGON ((2.22417 48.89886, 2.22542 48.89886, ...   4\n",
       "4  POLYGON ((2.22417 48.89786, 2.22542 48.89786, ...   5"
      ]
     },
     "execution_count": 54,
     "metadata": {},
     "output_type": "execute_result"
    }
   ],
   "source": [
    "grid_centroid = grid.copy()\n",
    "grid_centroid.head()"
   ]
  },
  {
   "cell_type": "code",
   "execution_count": 55,
   "metadata": {},
   "outputs": [
    {
     "name": "stderr",
     "output_type": "stream",
     "text": [
      "/opt/conda/lib/python3.7/site-packages/ipykernel_launcher.py:2: UserWarning: Geometry is in a geographic CRS. Results from 'centroid' are likely incorrect. Use 'GeoSeries.to_crs()' to re-project geometries to a projected CRS before this operation.\n",
      "\n",
      "  \n"
     ]
    }
   ],
   "source": [
    "#Find the center point\n",
    "grid_centroid['Center_point'] = grid_centroid['geometry'].centroid"
   ]
  },
  {
   "cell_type": "code",
   "execution_count": 56,
   "metadata": {},
   "outputs": [
    {
     "data": {
      "text/html": [
       "<div>\n",
       "<style scoped>\n",
       "    .dataframe tbody tr th:only-of-type {\n",
       "        vertical-align: middle;\n",
       "    }\n",
       "\n",
       "    .dataframe tbody tr th {\n",
       "        vertical-align: top;\n",
       "    }\n",
       "\n",
       "    .dataframe thead th {\n",
       "        text-align: right;\n",
       "    }\n",
       "</style>\n",
       "<table border=\"1\" class=\"dataframe\">\n",
       "  <thead>\n",
       "    <tr style=\"text-align: right;\">\n",
       "      <th></th>\n",
       "      <th>geometry</th>\n",
       "      <th>ID</th>\n",
       "      <th>Center_point</th>\n",
       "      <th>lat</th>\n",
       "      <th>long</th>\n",
       "    </tr>\n",
       "  </thead>\n",
       "  <tbody>\n",
       "    <tr>\n",
       "      <th>0</th>\n",
       "      <td>POLYGON ((2.22417 48.90186, 2.22542 48.90186, ...</td>\n",
       "      <td>1</td>\n",
       "      <td>POINT (2.22479 48.90136)</td>\n",
       "      <td>2.224794</td>\n",
       "      <td>48.901365</td>\n",
       "    </tr>\n",
       "    <tr>\n",
       "      <th>1</th>\n",
       "      <td>POLYGON ((2.22417 48.90086, 2.22542 48.90086, ...</td>\n",
       "      <td>2</td>\n",
       "      <td>POINT (2.22479 48.90036)</td>\n",
       "      <td>2.224794</td>\n",
       "      <td>48.900365</td>\n",
       "    </tr>\n",
       "    <tr>\n",
       "      <th>2</th>\n",
       "      <td>POLYGON ((2.22417 48.89986, 2.22542 48.89986, ...</td>\n",
       "      <td>3</td>\n",
       "      <td>POINT (2.22479 48.89936)</td>\n",
       "      <td>2.224794</td>\n",
       "      <td>48.899365</td>\n",
       "    </tr>\n",
       "    <tr>\n",
       "      <th>3</th>\n",
       "      <td>POLYGON ((2.22417 48.89886, 2.22542 48.89886, ...</td>\n",
       "      <td>4</td>\n",
       "      <td>POINT (2.22479 48.89836)</td>\n",
       "      <td>2.224794</td>\n",
       "      <td>48.898365</td>\n",
       "    </tr>\n",
       "    <tr>\n",
       "      <th>4</th>\n",
       "      <td>POLYGON ((2.22417 48.89786, 2.22542 48.89786, ...</td>\n",
       "      <td>5</td>\n",
       "      <td>POINT (2.22479 48.89736)</td>\n",
       "      <td>2.224794</td>\n",
       "      <td>48.897365</td>\n",
       "    </tr>\n",
       "  </tbody>\n",
       "</table>\n",
       "</div>"
      ],
      "text/plain": [
       "                                            geometry  ID  \\\n",
       "0  POLYGON ((2.22417 48.90186, 2.22542 48.90186, ...   1   \n",
       "1  POLYGON ((2.22417 48.90086, 2.22542 48.90086, ...   2   \n",
       "2  POLYGON ((2.22417 48.89986, 2.22542 48.89986, ...   3   \n",
       "3  POLYGON ((2.22417 48.89886, 2.22542 48.89886, ...   4   \n",
       "4  POLYGON ((2.22417 48.89786, 2.22542 48.89786, ...   5   \n",
       "\n",
       "               Center_point       lat       long  \n",
       "0  POINT (2.22479 48.90136)  2.224794  48.901365  \n",
       "1  POINT (2.22479 48.90036)  2.224794  48.900365  \n",
       "2  POINT (2.22479 48.89936)  2.224794  48.899365  \n",
       "3  POINT (2.22479 48.89836)  2.224794  48.898365  \n",
       "4  POINT (2.22479 48.89736)  2.224794  48.897365  "
      ]
     },
     "execution_count": 56,
     "metadata": {},
     "output_type": "execute_result"
    }
   ],
   "source": [
    "#Extract lat and lon from the centerpoint\n",
    "grid_centroid[\"lat\"] = grid_centroid.Center_point.map(lambda p: p.x)\n",
    "grid_centroid[\"long\"] = grid_centroid.Center_point.map(lambda p: p.y)\n",
    "grid_centroid.head()"
   ]
  },
  {
   "cell_type": "code",
   "execution_count": 57,
   "metadata": {},
   "outputs": [],
   "source": [
    "# convert cells geometry column to string\n",
    "grid_centroid['str_geom_grid'] = grid_centroid.geometry.apply(lambda x: wkt.dumps(x))"
   ]
  },
  {
   "cell_type": "code",
   "execution_count": 58,
   "metadata": {},
   "outputs": [
    {
     "data": {
      "text/html": [
       "<div>\n",
       "<style scoped>\n",
       "    .dataframe tbody tr th:only-of-type {\n",
       "        vertical-align: middle;\n",
       "    }\n",
       "\n",
       "    .dataframe tbody tr th {\n",
       "        vertical-align: top;\n",
       "    }\n",
       "\n",
       "    .dataframe thead th {\n",
       "        text-align: right;\n",
       "    }\n",
       "</style>\n",
       "<table border=\"1\" class=\"dataframe\">\n",
       "  <thead>\n",
       "    <tr style=\"text-align: right;\">\n",
       "      <th></th>\n",
       "      <th>geometry</th>\n",
       "      <th>ID</th>\n",
       "      <th>Center_point</th>\n",
       "      <th>lat</th>\n",
       "      <th>long</th>\n",
       "      <th>str_geom_grid</th>\n",
       "    </tr>\n",
       "  </thead>\n",
       "  <tbody>\n",
       "    <tr>\n",
       "      <th>0</th>\n",
       "      <td>POLYGON ((2.22417 48.90186, 2.22542 48.90186, ...</td>\n",
       "      <td>1</td>\n",
       "      <td>POINT (2.22479 48.90136)</td>\n",
       "      <td>2.224794</td>\n",
       "      <td>48.901365</td>\n",
       "      <td>POLYGON ((2.2241689999999998 48.90186499999980...</td>\n",
       "    </tr>\n",
       "    <tr>\n",
       "      <th>1</th>\n",
       "      <td>POLYGON ((2.22417 48.90086, 2.22542 48.90086, ...</td>\n",
       "      <td>2</td>\n",
       "      <td>POINT (2.22479 48.90036)</td>\n",
       "      <td>2.224794</td>\n",
       "      <td>48.900365</td>\n",
       "      <td>POLYGON ((2.2241689999999998 48.90086499999980...</td>\n",
       "    </tr>\n",
       "    <tr>\n",
       "      <th>2</th>\n",
       "      <td>POLYGON ((2.22417 48.89986, 2.22542 48.89986, ...</td>\n",
       "      <td>3</td>\n",
       "      <td>POINT (2.22479 48.89936)</td>\n",
       "      <td>2.224794</td>\n",
       "      <td>48.899365</td>\n",
       "      <td>POLYGON ((2.2241689999999998 48.89986499999980...</td>\n",
       "    </tr>\n",
       "    <tr>\n",
       "      <th>3</th>\n",
       "      <td>POLYGON ((2.22417 48.89886, 2.22542 48.89886, ...</td>\n",
       "      <td>4</td>\n",
       "      <td>POINT (2.22479 48.89836)</td>\n",
       "      <td>2.224794</td>\n",
       "      <td>48.898365</td>\n",
       "      <td>POLYGON ((2.2241689999999998 48.89886499999980...</td>\n",
       "    </tr>\n",
       "    <tr>\n",
       "      <th>4</th>\n",
       "      <td>POLYGON ((2.22417 48.89786, 2.22542 48.89786, ...</td>\n",
       "      <td>5</td>\n",
       "      <td>POINT (2.22479 48.89736)</td>\n",
       "      <td>2.224794</td>\n",
       "      <td>48.897365</td>\n",
       "      <td>POLYGON ((2.2241689999999998 48.89786499999981...</td>\n",
       "    </tr>\n",
       "  </tbody>\n",
       "</table>\n",
       "</div>"
      ],
      "text/plain": [
       "                                            geometry  ID  \\\n",
       "0  POLYGON ((2.22417 48.90186, 2.22542 48.90186, ...   1   \n",
       "1  POLYGON ((2.22417 48.90086, 2.22542 48.90086, ...   2   \n",
       "2  POLYGON ((2.22417 48.89986, 2.22542 48.89986, ...   3   \n",
       "3  POLYGON ((2.22417 48.89886, 2.22542 48.89886, ...   4   \n",
       "4  POLYGON ((2.22417 48.89786, 2.22542 48.89786, ...   5   \n",
       "\n",
       "               Center_point       lat       long  \\\n",
       "0  POINT (2.22479 48.90136)  2.224794  48.901365   \n",
       "1  POINT (2.22479 48.90036)  2.224794  48.900365   \n",
       "2  POINT (2.22479 48.89936)  2.224794  48.899365   \n",
       "3  POINT (2.22479 48.89836)  2.224794  48.898365   \n",
       "4  POINT (2.22479 48.89736)  2.224794  48.897365   \n",
       "\n",
       "                                       str_geom_grid  \n",
       "0  POLYGON ((2.2241689999999998 48.90186499999980...  \n",
       "1  POLYGON ((2.2241689999999998 48.90086499999980...  \n",
       "2  POLYGON ((2.2241689999999998 48.89986499999980...  \n",
       "3  POLYGON ((2.2241689999999998 48.89886499999980...  \n",
       "4  POLYGON ((2.2241689999999998 48.89786499999981...  "
      ]
     },
     "execution_count": 58,
     "metadata": {},
     "output_type": "execute_result"
    }
   ],
   "source": [
    "grid_centroid.head()"
   ]
  },
  {
   "cell_type": "code",
   "execution_count": 59,
   "metadata": {},
   "outputs": [
    {
     "data": {
      "text/html": [
       "<div>\n",
       "<style scoped>\n",
       "    .dataframe tbody tr th:only-of-type {\n",
       "        vertical-align: middle;\n",
       "    }\n",
       "\n",
       "    .dataframe tbody tr th {\n",
       "        vertical-align: top;\n",
       "    }\n",
       "\n",
       "    .dataframe thead th {\n",
       "        text-align: right;\n",
       "    }\n",
       "</style>\n",
       "<table border=\"1\" class=\"dataframe\">\n",
       "  <thead>\n",
       "    <tr style=\"text-align: right;\">\n",
       "      <th></th>\n",
       "      <th>geometry</th>\n",
       "      <th>ID</th>\n",
       "      <th>Center_point</th>\n",
       "      <th>lat</th>\n",
       "      <th>long</th>\n",
       "      <th>str_geom_grid</th>\n",
       "      <th>str_geom_centroid</th>\n",
       "    </tr>\n",
       "  </thead>\n",
       "  <tbody>\n",
       "    <tr>\n",
       "      <th>0</th>\n",
       "      <td>POLYGON ((2.22417 48.90186, 2.22542 48.90186, ...</td>\n",
       "      <td>1</td>\n",
       "      <td>POINT (2.22479 48.90136)</td>\n",
       "      <td>2.224794</td>\n",
       "      <td>48.901365</td>\n",
       "      <td>POLYGON ((2.2241689999999998 48.90186499999980...</td>\n",
       "      <td>POINT (2.2247940000000006 48.9013649999998066)</td>\n",
       "    </tr>\n",
       "    <tr>\n",
       "      <th>1</th>\n",
       "      <td>POLYGON ((2.22417 48.90086, 2.22542 48.90086, ...</td>\n",
       "      <td>2</td>\n",
       "      <td>POINT (2.22479 48.90036)</td>\n",
       "      <td>2.224794</td>\n",
       "      <td>48.900365</td>\n",
       "      <td>POLYGON ((2.2241689999999998 48.90086499999980...</td>\n",
       "      <td>POINT (2.2247940000000006 48.9003649999998089)</td>\n",
       "    </tr>\n",
       "    <tr>\n",
       "      <th>2</th>\n",
       "      <td>POLYGON ((2.22417 48.89986, 2.22542 48.89986, ...</td>\n",
       "      <td>3</td>\n",
       "      <td>POINT (2.22479 48.89936)</td>\n",
       "      <td>2.224794</td>\n",
       "      <td>48.899365</td>\n",
       "      <td>POLYGON ((2.2241689999999998 48.89986499999980...</td>\n",
       "      <td>POINT (2.2247940000000006 48.8993649999998041)</td>\n",
       "    </tr>\n",
       "    <tr>\n",
       "      <th>3</th>\n",
       "      <td>POLYGON ((2.22417 48.89886, 2.22542 48.89886, ...</td>\n",
       "      <td>4</td>\n",
       "      <td>POINT (2.22479 48.89836)</td>\n",
       "      <td>2.224794</td>\n",
       "      <td>48.898365</td>\n",
       "      <td>POLYGON ((2.2241689999999998 48.89886499999980...</td>\n",
       "      <td>POINT (2.2247940000000006 48.8983649999998065)</td>\n",
       "    </tr>\n",
       "    <tr>\n",
       "      <th>4</th>\n",
       "      <td>POLYGON ((2.22417 48.89786, 2.22542 48.89786, ...</td>\n",
       "      <td>5</td>\n",
       "      <td>POINT (2.22479 48.89736)</td>\n",
       "      <td>2.224794</td>\n",
       "      <td>48.897365</td>\n",
       "      <td>POLYGON ((2.2241689999999998 48.89786499999981...</td>\n",
       "      <td>POINT (2.2247940000000006 48.8973649999998088)</td>\n",
       "    </tr>\n",
       "  </tbody>\n",
       "</table>\n",
       "</div>"
      ],
      "text/plain": [
       "                                            geometry  ID  \\\n",
       "0  POLYGON ((2.22417 48.90186, 2.22542 48.90186, ...   1   \n",
       "1  POLYGON ((2.22417 48.90086, 2.22542 48.90086, ...   2   \n",
       "2  POLYGON ((2.22417 48.89986, 2.22542 48.89986, ...   3   \n",
       "3  POLYGON ((2.22417 48.89886, 2.22542 48.89886, ...   4   \n",
       "4  POLYGON ((2.22417 48.89786, 2.22542 48.89786, ...   5   \n",
       "\n",
       "               Center_point       lat       long  \\\n",
       "0  POINT (2.22479 48.90136)  2.224794  48.901365   \n",
       "1  POINT (2.22479 48.90036)  2.224794  48.900365   \n",
       "2  POINT (2.22479 48.89936)  2.224794  48.899365   \n",
       "3  POINT (2.22479 48.89836)  2.224794  48.898365   \n",
       "4  POINT (2.22479 48.89736)  2.224794  48.897365   \n",
       "\n",
       "                                       str_geom_grid  \\\n",
       "0  POLYGON ((2.2241689999999998 48.90186499999980...   \n",
       "1  POLYGON ((2.2241689999999998 48.90086499999980...   \n",
       "2  POLYGON ((2.2241689999999998 48.89986499999980...   \n",
       "3  POLYGON ((2.2241689999999998 48.89886499999980...   \n",
       "4  POLYGON ((2.2241689999999998 48.89786499999981...   \n",
       "\n",
       "                                str_geom_centroid  \n",
       "0  POINT (2.2247940000000006 48.9013649999998066)  \n",
       "1  POINT (2.2247940000000006 48.9003649999998089)  \n",
       "2  POINT (2.2247940000000006 48.8993649999998041)  \n",
       "3  POINT (2.2247940000000006 48.8983649999998065)  \n",
       "4  POINT (2.2247940000000006 48.8973649999998088)  "
      ]
     },
     "execution_count": 59,
     "metadata": {},
     "output_type": "execute_result"
    }
   ],
   "source": [
    "# convert centroid geometry column to string\n",
    "grid_centroid['str_geom_centroid'] = grid_centroid.Center_point.apply(lambda x: wkt.dumps(x))\n",
    "grid_centroid.head()"
   ]
  },
  {
   "cell_type": "code",
   "execution_count": 60,
   "metadata": {},
   "outputs": [],
   "source": [
    "# subset columns\n",
    "grid_centroid_df = grid_centroid[['ID', 'str_geom_grid', 'str_geom_centroid']]"
   ]
  },
  {
   "cell_type": "code",
   "execution_count": 61,
   "metadata": {},
   "outputs": [
    {
     "data": {
      "text/plain": [
       "(17139, 3)"
      ]
     },
     "execution_count": 61,
     "metadata": {},
     "output_type": "execute_result"
    }
   ],
   "source": [
    "grid_centroid_df.shape"
   ]
  },
  {
   "cell_type": "markdown",
   "metadata": {},
   "source": [
    "# Load grid data in bigquery"
   ]
  },
  {
   "cell_type": "code",
   "execution_count": 65,
   "metadata": {},
   "outputs": [],
   "source": [
    "from google.cloud import bigquery"
   ]
  },
  {
   "cell_type": "code",
   "execution_count": 66,
   "metadata": {},
   "outputs": [
    {
     "name": "stdout",
     "output_type": "stream",
     "text": [
      "Client creating using default project: test-rstudio-gcp\n",
      "Loaded dataframe to /projects/test-rstudio-gcp/datasets/opengeokpi/tables/grid_centroid_df\n"
     ]
    }
   ],
   "source": [
    "# connect to existing dataset\n",
    "\n",
    "client = bigquery.Client(location=\"US\")\n",
    "print(\"Client creating using default project: {}\".format(client.project))\n",
    "\n",
    "# Define a name for the dataset.\n",
    "dataset_id = 'opengeokpi'\n",
    "\n",
    "# The project defaults to the Client's project if not specified.\n",
    "dataset = client.get_dataset(dataset_id)  # API request# create new dataset\n",
    "\n",
    "table_ref = dataset.table(\"grid_centroid_df\")\n",
    "job = client.load_table_from_dataframe(grid_centroid_df, table_ref, location=\"US\")\n",
    "\n",
    "job.result()  # Waits for table load to complete.\n",
    "print(\"Loaded dataframe to {}\".format(table_ref.path))"
   ]
  },
  {
   "cell_type": "markdown",
   "metadata": {},
   "source": [
    "# select points in polygon"
   ]
  },
  {
   "cell_type": "code",
   "execution_count": 70,
   "metadata": {},
   "outputs": [],
   "source": [
    "import shapely.speedups\n",
    "shapely.speedups.enable()\n",
    "import geopandas\n",
    "import descartes\n",
    "import matplotlib.pyplot as plt\n",
    "from geopandas.tools import sjoin"
   ]
  },
  {
   "cell_type": "code",
   "execution_count": 71,
   "metadata": {},
   "outputs": [
    {
     "data": {
      "text/html": [
       "<div>\n",
       "<style scoped>\n",
       "    .dataframe tbody tr th:only-of-type {\n",
       "        vertical-align: middle;\n",
       "    }\n",
       "\n",
       "    .dataframe tbody tr th {\n",
       "        vertical-align: top;\n",
       "    }\n",
       "\n",
       "    .dataframe thead th {\n",
       "        text-align: right;\n",
       "    }\n",
       "</style>\n",
       "<table border=\"1\" class=\"dataframe\">\n",
       "  <thead>\n",
       "    <tr style=\"text-align: right;\">\n",
       "      <th></th>\n",
       "      <th>Center_point</th>\n",
       "      <th>ID</th>\n",
       "    </tr>\n",
       "  </thead>\n",
       "  <tbody>\n",
       "    <tr>\n",
       "      <th>0</th>\n",
       "      <td>POINT (2.22479 48.90136)</td>\n",
       "      <td>1</td>\n",
       "    </tr>\n",
       "    <tr>\n",
       "      <th>1</th>\n",
       "      <td>POINT (2.22479 48.90036)</td>\n",
       "      <td>2</td>\n",
       "    </tr>\n",
       "    <tr>\n",
       "      <th>2</th>\n",
       "      <td>POINT (2.22479 48.89936)</td>\n",
       "      <td>3</td>\n",
       "    </tr>\n",
       "    <tr>\n",
       "      <th>3</th>\n",
       "      <td>POINT (2.22479 48.89836)</td>\n",
       "      <td>4</td>\n",
       "    </tr>\n",
       "    <tr>\n",
       "      <th>4</th>\n",
       "      <td>POINT (2.22479 48.89736)</td>\n",
       "      <td>5</td>\n",
       "    </tr>\n",
       "  </tbody>\n",
       "</table>\n",
       "</div>"
      ],
      "text/plain": [
       "               Center_point  ID\n",
       "0  POINT (2.22479 48.90136)   1\n",
       "1  POINT (2.22479 48.90036)   2\n",
       "2  POINT (2.22479 48.89936)   3\n",
       "3  POINT (2.22479 48.89836)   4\n",
       "4  POINT (2.22479 48.89736)   5"
      ]
     },
     "execution_count": 71,
     "metadata": {},
     "output_type": "execute_result"
    }
   ],
   "source": [
    "centroid = grid_centroid[['Center_point','ID']]\n",
    "centroid = geopandas.GeoDataFrame(centroid, geometry='Center_point')\n",
    "centroid.head()"
   ]
  },
  {
   "cell_type": "code",
   "execution_count": 72,
   "metadata": {},
   "outputs": [
    {
     "data": {
      "image/png": "[encoded data removed]",
      "text/plain": [
       "<Figure size 432x288 with 1 Axes>"
      ]
     },
     "metadata": {
      "needs_background": "light"
     },
     "output_type": "display_data"
    }
   ],
   "source": [
    "fig, ax = plt.subplots()\n",
    "gdf_departements_paris.plot(ax=ax, facecolor='gray')\n",
    "centroid.plot(ax=ax, color='blue', markersize=0.5)\n",
    "plt.tight_layout()"
   ]
  },
  {
   "cell_type": "code",
   "execution_count": 73,
   "metadata": {},
   "outputs": [],
   "source": [
    "# get centroids points within paris departements\n",
    "pointInPolys = sjoin(centroid, gdf_departements_paris, op = 'within')"
   ]
  },
  {
   "cell_type": "code",
   "execution_count": 74,
   "metadata": {},
   "outputs": [
    {
     "data": {
      "image/png": "[encoded data removed]",
      "text/plain": [
       "<Figure size 432x288 with 1 Axes>"
      ]
     },
     "metadata": {
      "needs_background": "light"
     },
     "output_type": "display_data"
    }
   ],
   "source": [
    "fig, ax = plt.subplots()\n",
    "gdf_departements_paris.plot(ax=ax, facecolor='gray')\n",
    "centroid.plot(ax=ax, color='blue', markersize=0.5)\n",
    "pointInPolys.plot(ax=ax, color='red', markersize=0.5)\n",
    "plt.tight_layout()"
   ]
  },
  {
   "cell_type": "code",
   "execution_count": 77,
   "metadata": {},
   "outputs": [
    {
     "data": {
      "text/html": [
       "<div>\n",
       "<style scoped>\n",
       "    .dataframe tbody tr th:only-of-type {\n",
       "        vertical-align: middle;\n",
       "    }\n",
       "\n",
       "    .dataframe tbody tr th {\n",
       "        vertical-align: top;\n",
       "    }\n",
       "\n",
       "    .dataframe thead th {\n",
       "        text-align: right;\n",
       "    }\n",
       "</style>\n",
       "<table border=\"1\" class=\"dataframe\">\n",
       "  <thead>\n",
       "    <tr style=\"text-align: right;\">\n",
       "      <th></th>\n",
       "      <th>Center_point</th>\n",
       "      <th>ID</th>\n",
       "      <th>index_right</th>\n",
       "      <th>departements_area</th>\n",
       "      <th>departements_code</th>\n",
       "      <th>departements_level</th>\n",
       "      <th>departements_name</th>\n",
       "      <th>departements_population</th>\n",
       "      <th>str_geom_centroid</th>\n",
       "    </tr>\n",
       "  </thead>\n",
       "  <tbody>\n",
       "    <tr>\n",
       "      <th>46</th>\n",
       "      <td>POINT (2.22479 48.85536)</td>\n",
       "      <td>47</td>\n",
       "      <td>75</td>\n",
       "      <td>NaN</td>\n",
       "      <td>75</td>\n",
       "      <td>fr:departement</td>\n",
       "      <td>Paris</td>\n",
       "      <td>NaN</td>\n",
       "      <td>POINT (2.2247940000000006 48.8553649999999067)</td>\n",
       "    </tr>\n",
       "    <tr>\n",
       "      <th>47</th>\n",
       "      <td>POINT (2.22479 48.85436)</td>\n",
       "      <td>48</td>\n",
       "      <td>75</td>\n",
       "      <td>NaN</td>\n",
       "      <td>75</td>\n",
       "      <td>fr:departement</td>\n",
       "      <td>Paris</td>\n",
       "      <td>NaN</td>\n",
       "      <td>POINT (2.2247940000000006 48.8543649999999090)</td>\n",
       "    </tr>\n",
       "    <tr>\n",
       "      <th>48</th>\n",
       "      <td>POINT (2.22479 48.85336)</td>\n",
       "      <td>49</td>\n",
       "      <td>75</td>\n",
       "      <td>NaN</td>\n",
       "      <td>75</td>\n",
       "      <td>fr:departement</td>\n",
       "      <td>Paris</td>\n",
       "      <td>NaN</td>\n",
       "      <td>POINT (2.2247940000000006 48.8533649999999113)</td>\n",
       "    </tr>\n",
       "    <tr>\n",
       "      <th>129</th>\n",
       "      <td>POINT (2.22604 48.85936)</td>\n",
       "      <td>130</td>\n",
       "      <td>75</td>\n",
       "      <td>NaN</td>\n",
       "      <td>75</td>\n",
       "      <td>fr:departement</td>\n",
       "      <td>Paris</td>\n",
       "      <td>NaN</td>\n",
       "      <td>POINT (2.2260439999999999 48.8593649999998902)</td>\n",
       "    </tr>\n",
       "    <tr>\n",
       "      <th>130</th>\n",
       "      <td>POINT (2.22604 48.85836)</td>\n",
       "      <td>131</td>\n",
       "      <td>75</td>\n",
       "      <td>NaN</td>\n",
       "      <td>75</td>\n",
       "      <td>fr:departement</td>\n",
       "      <td>Paris</td>\n",
       "      <td>NaN</td>\n",
       "      <td>POINT (2.2260439999999999 48.8583649999999068)</td>\n",
       "    </tr>\n",
       "  </tbody>\n",
       "</table>\n",
       "</div>"
      ],
      "text/plain": [
       "                 Center_point   ID  index_right  departements_area  \\\n",
       "46   POINT (2.22479 48.85536)   47           75                NaN   \n",
       "47   POINT (2.22479 48.85436)   48           75                NaN   \n",
       "48   POINT (2.22479 48.85336)   49           75                NaN   \n",
       "129  POINT (2.22604 48.85936)  130           75                NaN   \n",
       "130  POINT (2.22604 48.85836)  131           75                NaN   \n",
       "\n",
       "    departements_code departements_level departements_name  \\\n",
       "46                 75     fr:departement             Paris   \n",
       "47                 75     fr:departement             Paris   \n",
       "48                 75     fr:departement             Paris   \n",
       "129                75     fr:departement             Paris   \n",
       "130                75     fr:departement             Paris   \n",
       "\n",
       "     departements_population                               str_geom_centroid  \n",
       "46                       NaN  POINT (2.2247940000000006 48.8553649999999067)  \n",
       "47                       NaN  POINT (2.2247940000000006 48.8543649999999090)  \n",
       "48                       NaN  POINT (2.2247940000000006 48.8533649999999113)  \n",
       "129                      NaN  POINT (2.2260439999999999 48.8593649999998902)  \n",
       "130                      NaN  POINT (2.2260439999999999 48.8583649999999068)  "
      ]
     },
     "execution_count": 77,
     "metadata": {},
     "output_type": "execute_result"
    }
   ],
   "source": [
    "# convert centroid geometry column to string\n",
    "pointInPolys['str_geom_centroid'] = pointInPolys.Center_point.apply(lambda x: wkt.dumps(x))\n",
    "pointInPolys.head()"
   ]
  },
  {
   "cell_type": "code",
   "execution_count": 78,
   "metadata": {},
   "outputs": [],
   "source": [
    "# subset columns\n",
    "centroids_grid_df = pointInPolys[['ID', 'departements_code', 'departements_name','str_geom_centroid']]"
   ]
  },
  {
   "cell_type": "code",
   "execution_count": 79,
   "metadata": {},
   "outputs": [
    {
     "name": "stdout",
     "output_type": "stream",
     "text": [
      "Client creating using default project: test-rstudio-gcp\n",
      "Loaded dataframe to /projects/test-rstudio-gcp/datasets/opengeokpi/tables/centroids_grid_df\n"
     ]
    }
   ],
   "source": [
    "# load results in bigquery\n",
    "# connect to existing dataset\n",
    "\n",
    "client = bigquery.Client(location=\"US\")\n",
    "print(\"Client creating using default project: {}\".format(client.project))\n",
    "\n",
    "# Define a name for the dataset.\n",
    "dataset_id = 'opengeokpi'\n",
    "\n",
    "# The project defaults to the Client's project if not specified.\n",
    "dataset = client.get_dataset(dataset_id)  # API request# create new dataset\n",
    "\n",
    "table_ref = dataset.table(\"centroids_grid_df\")\n",
    "job = client.load_table_from_dataframe(centroids_grid_df, table_ref, location=\"US\")\n",
    "\n",
    "job.result()  # Waits for table load to complete.\n",
    "print(\"Loaded dataframe to {}\".format(table_ref.path))"
   ]
  },
  {
   "cell_type": "code",
   "execution_count": 80,
   "metadata": {},
   "outputs": [
    {
     "name": "stdout",
     "output_type": "stream",
     "text": [
      "<class 'pandas.core.frame.DataFrame'>\n",
      "Int64Index: 10335 entries, 46 to 17032\n",
      "Data columns (total 4 columns):\n",
      " #   Column             Non-Null Count  Dtype \n",
      "---  ------             --------------  ----- \n",
      " 0   ID                 10335 non-null  int64 \n",
      " 1   departements_code  10335 non-null  object\n",
      " 2   departements_name  10335 non-null  object\n",
      " 3   str_geom_centroid  10335 non-null  object\n",
      "dtypes: int64(1), object(3)\n",
      "memory usage: 403.7+ KB\n"
     ]
    }
   ],
   "source": [
    "centroids_grid_df.info()"
   ]
  },
  {
   "cell_type": "code",
   "execution_count": 82,
   "metadata": {},
   "outputs": [
    {
     "name": "stdout",
     "output_type": "stream",
     "text": [
      "Query results loaded to table /projects/test-rstudio-gcp/datasets/opengeokpi/tables/centroids_grid_geo\n"
     ]
    }
   ],
   "source": [
    "# create centroids_grid_geo in bigquery\n",
    "sql = \"\"\"\n",
    "    SELECT\n",
    "  ST_GEOGFROMTEXT(str_geom_centroid) AS geom_centroids,\n",
    "  ID,\n",
    "  departements_code,\n",
    "  departements_name\n",
    "FROM\n",
    "  `test-rstudio-gcp.opengeokpi.centroids_grid_df` ;\n",
    "\"\"\"\n",
    "table_ref = dataset.table(\"centroids_grid_geo\")\n",
    "job_config = bigquery.QueryJobConfig(\n",
    "    destination=table_ref\n",
    ")\n",
    "\n",
    "\n",
    "# Start the query, passing in the extra configuration.\n",
    "query_job = client.query(sql, location=\"US\", job_config=job_config)\n",
    "\n",
    "query_job.result()  # Waits for the query to finish\n",
    "print(\"Query results loaded to table {}\".format(table_ref.path))"
   ]
  },
  {
   "cell_type": "code",
   "execution_count": null,
   "metadata": {},
   "outputs": [],
   "source": []
  }
 ],
 "metadata": {
  "environment": {
   "name": "common-cpu.m54",
   "type": "gcloud",
   "uri": "gcr.io/deeplearning-platform-release/base-cpu:m54"
  },
  "kernelspec": {
   "display_name": "Python 3",
   "language": "python",
   "name": "python3"
  },
  "language_info": {
   "codemirror_mode": {
    "name": "ipython",
    "version": 3
   },
   "file_extension": ".py",
   "mimetype": "text/x-python",
   "name": "python",
   "nbconvert_exporter": "python",
   "pygments_lexer": "ipython3",
   "version": "3.7.8"
  }
 },
 "nbformat": 4,
 "nbformat_minor": 4
}
