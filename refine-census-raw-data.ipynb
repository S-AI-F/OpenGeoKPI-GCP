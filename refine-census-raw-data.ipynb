{
 "cells": [
  {
   "cell_type": "markdown",
   "metadata": {},
   "source": [
    "# get census raw data"
   ]
  },
  {
   "cell_type": "code",
   "execution_count": 54,
   "metadata": {},
   "outputs": [],
   "source": [
    "from google.cloud import storage\n",
    "from google.cloud import bigquery\n",
    "import pandas as pd\n",
    "from io import BytesIO"
   ]
  },
  {
   "cell_type": "code",
   "execution_count": 55,
   "metadata": {},
   "outputs": [],
   "source": [
    "storage_client = storage.Client()\n",
    "bucket = storage_client.get_bucket('opengeokpi-bucket')\n",
    "blob = bucket.blob('raw/population/base-cc-evol-struct-pop-2017.csv')\n",
    "content =blob.download_as_string()\n",
    "communes_census_2017 = pd.read_csv(BytesIO(content), sep = ';',dtype=str)"
   ]
  },
  {
   "cell_type": "code",
   "execution_count": 56,
   "metadata": {},
   "outputs": [],
   "source": [
    "communes_census_2017['PopulationTotal'] = df['P17_POP'].astype(float)"
   ]
  },
  {
   "cell_type": "code",
   "execution_count": 57,
   "metadata": {},
   "outputs": [],
   "source": [
    "# rename columns\n",
    "communes_census_2017 = communes_census_2017.rename(columns={\n",
    "                                  \"CODGEO\": \"Code\"})"
   ]
  },
  {
   "cell_type": "code",
   "execution_count": 58,
   "metadata": {},
   "outputs": [],
   "source": [
    "communes_census_2017 = communes_census_2017[['Code','PopulationTotal']]"
   ]
  },
  {
   "cell_type": "code",
   "execution_count": 59,
   "metadata": {},
   "outputs": [
    {
     "data": {
      "text/html": [
       "<div>\n",
       "<style scoped>\n",
       "    .dataframe tbody tr th:only-of-type {\n",
       "        vertical-align: middle;\n",
       "    }\n",
       "\n",
       "    .dataframe tbody tr th {\n",
       "        vertical-align: top;\n",
       "    }\n",
       "\n",
       "    .dataframe thead th {\n",
       "        text-align: right;\n",
       "    }\n",
       "</style>\n",
       "<table border=\"1\" class=\"dataframe\">\n",
       "  <thead>\n",
       "    <tr style=\"text-align: right;\">\n",
       "      <th></th>\n",
       "      <th>Code</th>\n",
       "      <th>PopulationTotal</th>\n",
       "    </tr>\n",
       "  </thead>\n",
       "  <tbody>\n",
       "    <tr>\n",
       "      <th>0</th>\n",
       "      <td>01001</td>\n",
       "      <td>776.0</td>\n",
       "    </tr>\n",
       "    <tr>\n",
       "      <th>1</th>\n",
       "      <td>01002</td>\n",
       "      <td>248.0</td>\n",
       "    </tr>\n",
       "    <tr>\n",
       "      <th>2</th>\n",
       "      <td>01004</td>\n",
       "      <td>14035.0</td>\n",
       "    </tr>\n",
       "    <tr>\n",
       "      <th>3</th>\n",
       "      <td>01005</td>\n",
       "      <td>1689.0</td>\n",
       "    </tr>\n",
       "    <tr>\n",
       "      <th>4</th>\n",
       "      <td>01006</td>\n",
       "      <td>111.0</td>\n",
       "    </tr>\n",
       "  </tbody>\n",
       "</table>\n",
       "</div>"
      ],
      "text/plain": [
       "    Code  PopulationTotal\n",
       "0  01001            776.0\n",
       "1  01002            248.0\n",
       "2  01004          14035.0\n",
       "3  01005           1689.0\n",
       "4  01006            111.0"
      ]
     },
     "execution_count": 59,
     "metadata": {},
     "output_type": "execute_result"
    }
   ],
   "source": [
    "communes_census_2017.head()"
   ]
  },
  {
   "cell_type": "markdown",
   "metadata": {},
   "source": [
    "# save refine data"
   ]
  },
  {
   "cell_type": "code",
   "execution_count": 52,
   "metadata": {},
   "outputs": [],
   "source": [
    "# save in work environment\n",
    "with open('data/population/communes_census_2017.csv', 'w') as f:\n",
    "    f.write(communes_census_2017.to_csv())"
   ]
  },
  {
   "cell_type": "code",
   "execution_count": 53,
   "metadata": {},
   "outputs": [
    {
     "name": "stdout",
     "output_type": "stream",
     "text": [
      "File uploaded to opengeokpi-bucket.\n"
     ]
    }
   ],
   "source": [
    "# upload in google storage\n",
    "blob = bucket.blob('refine/population/communes_census_2017.csv')\n",
    "\n",
    "communes_census_2017  = 'data/population/communes_census_2017.csv'\n",
    "blob.upload_from_filename(communes_census_2017)\n",
    "\n",
    "print(\"File uploaded to {}.\".format(bucket.name))"
   ]
  },
  {
   "cell_type": "code",
   "execution_count": 4,
   "metadata": {},
   "outputs": [],
   "source": [
    "# get communes geometry data"
   ]
  },
  {
   "cell_type": "code",
   "execution_count": 7,
   "metadata": {},
   "outputs": [
    {
     "name": "stdout",
     "output_type": "stream",
     "text": [
      "Client creating using default project: test-rstudio-gcp\n"
     ]
    },
    {
     "name": "stderr",
     "output_type": "stream",
     "text": [
      "/opt/conda/lib/python3.7/site-packages/google/cloud/bigquery/client.py:407: UserWarning: Cannot create BigQuery Storage client, the dependency google-cloud-bigquery-storage is not installed.\n",
      "  \"Cannot create BigQuery Storage client, the dependency \"\n"
     ]
    },
    {
     "data": {
      "text/html": [
       "<div>\n",
       "<style scoped>\n",
       "    .dataframe tbody tr th:only-of-type {\n",
       "        vertical-align: middle;\n",
       "    }\n",
       "\n",
       "    .dataframe tbody tr th {\n",
       "        vertical-align: top;\n",
       "    }\n",
       "\n",
       "    .dataframe thead th {\n",
       "        text-align: right;\n",
       "    }\n",
       "</style>\n",
       "<table border=\"1\" class=\"dataframe\">\n",
       "  <thead>\n",
       "    <tr style=\"text-align: right;\">\n",
       "      <th></th>\n",
       "      <th>geom_communes</th>\n",
       "      <th>communes_level</th>\n",
       "      <th>communes_code</th>\n",
       "      <th>communes_name</th>\n",
       "      <th>communes_population</th>\n",
       "      <th>communes_area</th>\n",
       "    </tr>\n",
       "  </thead>\n",
       "  <tbody>\n",
       "    <tr>\n",
       "      <th>0</th>\n",
       "      <td>POLYGON((-0.269573 43.205079, -0.26402 43.1980...</td>\n",
       "      <td>fr:commune</td>\n",
       "      <td>64101</td>\n",
       "      <td>Baudreix</td>\n",
       "      <td>581.0</td>\n",
       "      <td>2.0</td>\n",
       "    </tr>\n",
       "    <tr>\n",
       "      <th>1</th>\n",
       "      <td>POLYGON((-4.071203 48.220714, -4.076096 48.224...</td>\n",
       "      <td>fr:commune</td>\n",
       "      <td>29222</td>\n",
       "      <td>Port-Launay</td>\n",
       "      <td>389.0</td>\n",
       "      <td>2.0</td>\n",
       "    </tr>\n",
       "    <tr>\n",
       "      <th>2</th>\n",
       "      <td>POLYGON((0.151986 43.247954, 0.163869 43.24715...</td>\n",
       "      <td>fr:commune</td>\n",
       "      <td>65225</td>\n",
       "      <td>Hourc</td>\n",
       "      <td>111.0</td>\n",
       "      <td>2.0</td>\n",
       "    </tr>\n",
       "    <tr>\n",
       "      <th>3</th>\n",
       "      <td>POLYGON((2.084783 43.137604, 2.086874 43.13348...</td>\n",
       "      <td>fr:commune</td>\n",
       "      <td>11167</td>\n",
       "      <td>Gramazie</td>\n",
       "      <td>113.0</td>\n",
       "      <td>2.0</td>\n",
       "    </tr>\n",
       "    <tr>\n",
       "      <th>4</th>\n",
       "      <td>POLYGON((4.369932 45.646579, 4.371724 45.64775...</td>\n",
       "      <td>fr:commune</td>\n",
       "      <td>42335</td>\n",
       "      <td>Viricelles</td>\n",
       "      <td>466.0</td>\n",
       "      <td>2.0</td>\n",
       "    </tr>\n",
       "  </tbody>\n",
       "</table>\n",
       "</div>"
      ],
      "text/plain": [
       "                                       geom_communes communes_level  \\\n",
       "0  POLYGON((-0.269573 43.205079, -0.26402 43.1980...     fr:commune   \n",
       "1  POLYGON((-4.071203 48.220714, -4.076096 48.224...     fr:commune   \n",
       "2  POLYGON((0.151986 43.247954, 0.163869 43.24715...     fr:commune   \n",
       "3  POLYGON((2.084783 43.137604, 2.086874 43.13348...     fr:commune   \n",
       "4  POLYGON((4.369932 45.646579, 4.371724 45.64775...     fr:commune   \n",
       "\n",
       "  communes_code communes_name  communes_population  communes_area  \n",
       "0         64101      Baudreix                581.0            2.0  \n",
       "1         29222   Port-Launay                389.0            2.0  \n",
       "2         65225         Hourc                111.0            2.0  \n",
       "3         11167      Gramazie                113.0            2.0  \n",
       "4         42335    Viricelles                466.0            2.0  "
      ]
     },
     "execution_count": 7,
     "metadata": {},
     "output_type": "execute_result"
    }
   ],
   "source": [
    "client = bigquery.Client(location=\"US\")\n",
    "print(\"Client creating using default project: {}\".format(client.project))\n",
    "\n",
    "query = \"\"\"\n",
    "    SELECT *\n",
    "    FROM `test-rstudio-gcp.opengeokpi.zones_communes_geo`\n",
    "\"\"\"\n",
    "query_job = client.query(\n",
    "    query,\n",
    "    # Location must match that of the dataset(s) referenced in the query.\n",
    "    location=\"US\",\n",
    ")  # API request - starts the query\n",
    "\n",
    "zones_communes_geo = query_job.to_dataframe()\n",
    "zones_communes_geo.head()"
   ]
  },
  {
   "cell_type": "code",
   "execution_count": 17,
   "metadata": {},
   "outputs": [],
   "source": [
    "#zones_communes_geo['communes_code'].values.tolist()"
   ]
  },
  {
   "cell_type": "code",
   "execution_count": 13,
   "metadata": {},
   "outputs": [
    {
     "name": "stdout",
     "output_type": "stream",
     "text": [
      "<class 'pandas.core.frame.DataFrame'>\n",
      "RangeIndex: 34996 entries, 0 to 34995\n",
      "Columns: 312 entries, CODGEO to C07_POP55P_CS8\n",
      "dtypes: float64(311), object(1)\n",
      "memory usage: 83.3+ MB\n"
     ]
    }
   ],
   "source": [
    "census_2017.info()"
   ]
  },
  {
   "cell_type": "code",
   "execution_count": 25,
   "metadata": {},
   "outputs": [],
   "source": [
    "commune_kpi_population = pd.merge(zones_communes_geo, census_2017, left_on='communes_code', right_on='CODGEO')"
   ]
  },
  {
   "cell_type": "code",
   "execution_count": 26,
   "metadata": {},
   "outputs": [
    {
     "data": {
      "text/html": [
       "<div>\n",
       "<style scoped>\n",
       "    .dataframe tbody tr th:only-of-type {\n",
       "        vertical-align: middle;\n",
       "    }\n",
       "\n",
       "    .dataframe tbody tr th {\n",
       "        vertical-align: top;\n",
       "    }\n",
       "\n",
       "    .dataframe thead th {\n",
       "        text-align: right;\n",
       "    }\n",
       "</style>\n",
       "<table border=\"1\" class=\"dataframe\">\n",
       "  <thead>\n",
       "    <tr style=\"text-align: right;\">\n",
       "      <th></th>\n",
       "      <th>geom_communes</th>\n",
       "      <th>communes_level</th>\n",
       "      <th>communes_code</th>\n",
       "      <th>communes_name</th>\n",
       "      <th>communes_population</th>\n",
       "      <th>communes_area</th>\n",
       "      <th>CODGEO</th>\n",
       "      <th>P17_POP</th>\n",
       "      <th>P17_POP0014</th>\n",
       "      <th>P17_POP1529</th>\n",
       "      <th>...</th>\n",
       "      <th>C07_POP55P</th>\n",
       "      <th>C07_POP55P_CS1</th>\n",
       "      <th>C07_POP55P_CS2</th>\n",
       "      <th>C07_POP55P_CS3</th>\n",
       "      <th>C07_POP55P_CS4</th>\n",
       "      <th>C07_POP55P_CS5</th>\n",
       "      <th>C07_POP55P_CS6</th>\n",
       "      <th>C07_POP55P_CS7</th>\n",
       "      <th>C07_POP55P_CS8</th>\n",
       "      <th>Population</th>\n",
       "    </tr>\n",
       "  </thead>\n",
       "  <tbody>\n",
       "    <tr>\n",
       "      <th>0</th>\n",
       "      <td>POLYGON((-0.269573 43.205079, -0.26402 43.1980...</td>\n",
       "      <td>fr:commune</td>\n",
       "      <td>64101</td>\n",
       "      <td>Baudreix</td>\n",
       "      <td>581.0</td>\n",
       "      <td>2.0</td>\n",
       "      <td>64101</td>\n",
       "      <td>611</td>\n",
       "      <td>106.886244825678</td>\n",
       "      <td>155.225052719982</td>\n",
       "      <td>...</td>\n",
       "      <td>81.547031952713</td>\n",
       "      <td>0</td>\n",
       "      <td>0</td>\n",
       "      <td>4.07735159763565</td>\n",
       "      <td>4.07735159763565</td>\n",
       "      <td>0</td>\n",
       "      <td>0</td>\n",
       "      <td>61.1602739645348</td>\n",
       "      <td>12.232054792907</td>\n",
       "      <td>611.0</td>\n",
       "    </tr>\n",
       "    <tr>\n",
       "      <th>1</th>\n",
       "      <td>POLYGON((-4.071203 48.220714, -4.076096 48.224...</td>\n",
       "      <td>fr:commune</td>\n",
       "      <td>29222</td>\n",
       "      <td>Port-Launay</td>\n",
       "      <td>389.0</td>\n",
       "      <td>2.0</td>\n",
       "      <td>29222</td>\n",
       "      <td>391</td>\n",
       "      <td>46.1972573702485</td>\n",
       "      <td>74.6471340451079</td>\n",
       "      <td>...</td>\n",
       "      <td>149.550128915545</td>\n",
       "      <td>0</td>\n",
       "      <td>4.27286082615844</td>\n",
       "      <td>4.27286082615844</td>\n",
       "      <td>17.0914433046338</td>\n",
       "      <td>4.27286082615844</td>\n",
       "      <td>17.0914433046338</td>\n",
       "      <td>76.9114948708519</td>\n",
       "      <td>25.6371649569506</td>\n",
       "      <td>391.0</td>\n",
       "    </tr>\n",
       "    <tr>\n",
       "      <th>2</th>\n",
       "      <td>POLYGON((0.151986 43.247954, 0.163869 43.24715...</td>\n",
       "      <td>fr:commune</td>\n",
       "      <td>65225</td>\n",
       "      <td>Hourc</td>\n",
       "      <td>111.0</td>\n",
       "      <td>2.0</td>\n",
       "      <td>65225</td>\n",
       "      <td>109</td>\n",
       "      <td>20.7619047619048</td>\n",
       "      <td>9.34285714285716</td>\n",
       "      <td>...</td>\n",
       "      <td>11.8211395299141</td>\n",
       "      <td>0</td>\n",
       "      <td>0</td>\n",
       "      <td>3.9403798433047</td>\n",
       "      <td>0</td>\n",
       "      <td>0</td>\n",
       "      <td>0</td>\n",
       "      <td>7.8807596866094</td>\n",
       "      <td>0</td>\n",
       "      <td>109.0</td>\n",
       "    </tr>\n",
       "    <tr>\n",
       "      <th>3</th>\n",
       "      <td>POLYGON((2.084783 43.137604, 2.086874 43.13348...</td>\n",
       "      <td>fr:commune</td>\n",
       "      <td>11167</td>\n",
       "      <td>Gramazie</td>\n",
       "      <td>113.0</td>\n",
       "      <td>2.0</td>\n",
       "      <td>11167</td>\n",
       "      <td>117</td>\n",
       "      <td>27.2327586206896</td>\n",
       "      <td>14.1206896551724</td>\n",
       "      <td>...</td>\n",
       "      <td>29.2824631394306</td>\n",
       "      <td>0</td>\n",
       "      <td>0</td>\n",
       "      <td>0</td>\n",
       "      <td>0</td>\n",
       "      <td>0</td>\n",
       "      <td>0</td>\n",
       "      <td>20.9160450995933</td>\n",
       "      <td>8.36641803983732</td>\n",
       "      <td>117.0</td>\n",
       "    </tr>\n",
       "    <tr>\n",
       "      <th>4</th>\n",
       "      <td>POLYGON((4.369932 45.646579, 4.371724 45.64775...</td>\n",
       "      <td>fr:commune</td>\n",
       "      <td>42335</td>\n",
       "      <td>Viricelles</td>\n",
       "      <td>466.0</td>\n",
       "      <td>2.0</td>\n",
       "      <td>42335</td>\n",
       "      <td>457</td>\n",
       "      <td>101.325791855204</td>\n",
       "      <td>58.9343891402715</td>\n",
       "      <td>...</td>\n",
       "      <td>107.577336631709</td>\n",
       "      <td>0</td>\n",
       "      <td>3.7095633321279</td>\n",
       "      <td>0</td>\n",
       "      <td>0</td>\n",
       "      <td>7.4191266642558</td>\n",
       "      <td>3.7095633321279</td>\n",
       "      <td>77.9008299746859</td>\n",
       "      <td>14.8382533285116</td>\n",
       "      <td>457.0</td>\n",
       "    </tr>\n",
       "  </tbody>\n",
       "</table>\n",
       "<p>5 rows × 319 columns</p>\n",
       "</div>"
      ],
      "text/plain": [
       "                                       geom_communes communes_level  \\\n",
       "0  POLYGON((-0.269573 43.205079, -0.26402 43.1980...     fr:commune   \n",
       "1  POLYGON((-4.071203 48.220714, -4.076096 48.224...     fr:commune   \n",
       "2  POLYGON((0.151986 43.247954, 0.163869 43.24715...     fr:commune   \n",
       "3  POLYGON((2.084783 43.137604, 2.086874 43.13348...     fr:commune   \n",
       "4  POLYGON((4.369932 45.646579, 4.371724 45.64775...     fr:commune   \n",
       "\n",
       "  communes_code communes_name  communes_population  communes_area CODGEO  \\\n",
       "0         64101      Baudreix                581.0            2.0  64101   \n",
       "1         29222   Port-Launay                389.0            2.0  29222   \n",
       "2         65225         Hourc                111.0            2.0  65225   \n",
       "3         11167      Gramazie                113.0            2.0  11167   \n",
       "4         42335    Viricelles                466.0            2.0  42335   \n",
       "\n",
       "  P17_POP       P17_POP0014       P17_POP1529  ...        C07_POP55P  \\\n",
       "0     611  106.886244825678  155.225052719982  ...   81.547031952713   \n",
       "1     391  46.1972573702485  74.6471340451079  ...  149.550128915545   \n",
       "2     109  20.7619047619048  9.34285714285716  ...  11.8211395299141   \n",
       "3     117  27.2327586206896  14.1206896551724  ...  29.2824631394306   \n",
       "4     457  101.325791855204  58.9343891402715  ...  107.577336631709   \n",
       "\n",
       "  C07_POP55P_CS1    C07_POP55P_CS2    C07_POP55P_CS3    C07_POP55P_CS4  \\\n",
       "0              0                 0  4.07735159763565  4.07735159763565   \n",
       "1              0  4.27286082615844  4.27286082615844  17.0914433046338   \n",
       "2              0                 0   3.9403798433047                 0   \n",
       "3              0                 0                 0                 0   \n",
       "4              0   3.7095633321279                 0                 0   \n",
       "\n",
       "     C07_POP55P_CS5    C07_POP55P_CS6    C07_POP55P_CS7    C07_POP55P_CS8  \\\n",
       "0                 0                 0  61.1602739645348   12.232054792907   \n",
       "1  4.27286082615844  17.0914433046338  76.9114948708519  25.6371649569506   \n",
       "2                 0                 0   7.8807596866094                 0   \n",
       "3                 0                 0  20.9160450995933  8.36641803983732   \n",
       "4   7.4191266642558   3.7095633321279  77.9008299746859  14.8382533285116   \n",
       "\n",
       "  Population  \n",
       "0      611.0  \n",
       "1      391.0  \n",
       "2      109.0  \n",
       "3      117.0  \n",
       "4      457.0  \n",
       "\n",
       "[5 rows x 319 columns]"
      ]
     },
     "execution_count": 26,
     "metadata": {},
     "output_type": "execute_result"
    }
   ],
   "source": [
    "commune_kpi_population.head()"
   ]
  },
  {
   "cell_type": "code",
   "execution_count": 24,
   "metadata": {},
   "outputs": [
    {
     "name": "stdout",
     "output_type": "stream",
     "text": [
      "<class 'pandas.core.frame.DataFrame'>\n",
      "Int64Index: 35494 entries, 0 to 35493\n",
      "Columns: 319 entries, geom_communes to Population\n",
      "dtypes: float64(3), object(316)\n",
      "memory usage: 86.7+ MB\n"
     ]
    }
   ],
   "source": [
    "df_merge_difkey.info()"
   ]
  },
  {
   "cell_type": "code",
   "execution_count": null,
   "metadata": {},
   "outputs": [],
   "source": []
  }
 ],
 "metadata": {
  "environment": {
   "name": "common-cpu.m54",
   "type": "gcloud",
   "uri": "gcr.io/deeplearning-platform-release/base-cpu:m54"
  },
  "kernelspec": {
   "display_name": "Python 3",
   "language": "python",
   "name": "python3"
  },
  "language_info": {
   "codemirror_mode": {
    "name": "ipython",
    "version": 3
   },
   "file_extension": ".py",
   "mimetype": "text/x-python",
   "name": "python",
   "nbconvert_exporter": "python",
   "pygments_lexer": "ipython3",
   "version": "3.7.8"
  }
 },
 "nbformat": 4,
 "nbformat_minor": 4
}
